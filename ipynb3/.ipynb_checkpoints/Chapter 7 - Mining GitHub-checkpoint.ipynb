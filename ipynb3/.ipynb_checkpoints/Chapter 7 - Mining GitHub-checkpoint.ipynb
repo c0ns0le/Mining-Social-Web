{
 "cells": [
  {
   "cell_type": "markdown",
   "metadata": {},
   "source": [
    "#Mining the Social Web, 2nd Edition\n",
    "\n",
    "##Chapter 7: Mining GitHub: Inspecting Software Collaboration Habits, Building Interest Graphs, and More\n",
    "\n",
    "This IPython Notebook provides an interactive way to follow along with and explore the numbered examples from [_Mining the Social Web (2nd Edition)_](http://bit.ly/135dHfs). The intent behind this notebook is to reinforce the concepts from the sample code in a fun, convenient, and effective way. This notebook assumes that you are reading along with the book and have the context of the discussion as you work through these exercises.\n",
    "\n",
    "In the somewhat unlikely event that you've somehow stumbled across this notebook outside of its context on GitHub, [you can find the full source code repository here](http://bit.ly/16kGNyb).\n",
    "\n",
    "## Copyright and Licensing\n",
    "\n",
    "You are free to use or adapt this notebook for any purpose you'd like. However, please respect the [Simplified BSD License](https://github.com/ptwobrussell/Mining-the-Social-Web-2nd-Edition/blob/master/LICENSE.txt) that governs its use."
   ]
  },
  {
   "cell_type": "markdown",
   "metadata": {},
   "source": [
    "## Example 1. Programmatically obtaining a personal API access token for accessing GitHub's API"
   ]
  },
  {
   "cell_type": "code",
   "execution_count": 5,
   "metadata": {
    "collapsed": false
   },
   "outputs": [
    {
     "ename": "ConnectionError",
     "evalue": "HTTPSConnectionPool(host='api.github.com', port=443): Max retries exceeded with url: /authorizations (Caused by NewConnectionError('<requests.packages.urllib3.connection.VerifiedHTTPSConnection object at 0x10fa47898>: Failed to establish a new connection: [Errno 8] nodename nor servname provided, or not known',))",
     "output_type": "error",
     "traceback": [
      "\u001b[0;31m---------------------------------------------------------------------------\u001b[0m",
      "\u001b[0;31mgaierror\u001b[0m                                  Traceback (most recent call last)",
      "\u001b[0;32m/usr/local/lib/python3.5/site-packages/requests/packages/urllib3/connection.py\u001b[0m in \u001b[0;36m_new_conn\u001b[0;34m(self)\u001b[0m\n\u001b[1;32m    136\u001b[0m             conn = connection.create_connection(\n\u001b[0;32m--> 137\u001b[0;31m                 (self.host, self.port), self.timeout, **extra_kw)\n\u001b[0m\u001b[1;32m    138\u001b[0m \u001b[0;34m\u001b[0m\u001b[0m\n",
      "\u001b[0;32m/usr/local/lib/python3.5/site-packages/requests/packages/urllib3/util/connection.py\u001b[0m in \u001b[0;36mcreate_connection\u001b[0;34m(address, timeout, source_address, socket_options)\u001b[0m\n\u001b[1;32m     66\u001b[0m     \u001b[0merr\u001b[0m \u001b[0;34m=\u001b[0m \u001b[0;32mNone\u001b[0m\u001b[0;34m\u001b[0m\u001b[0m\n\u001b[0;32m---> 67\u001b[0;31m     \u001b[0;32mfor\u001b[0m \u001b[0mres\u001b[0m \u001b[0;32min\u001b[0m \u001b[0msocket\u001b[0m\u001b[0;34m.\u001b[0m\u001b[0mgetaddrinfo\u001b[0m\u001b[0;34m(\u001b[0m\u001b[0mhost\u001b[0m\u001b[0;34m,\u001b[0m \u001b[0mport\u001b[0m\u001b[0;34m,\u001b[0m \u001b[0;36m0\u001b[0m\u001b[0;34m,\u001b[0m \u001b[0msocket\u001b[0m\u001b[0;34m.\u001b[0m\u001b[0mSOCK_STREAM\u001b[0m\u001b[0;34m)\u001b[0m\u001b[0;34m:\u001b[0m\u001b[0;34m\u001b[0m\u001b[0m\n\u001b[0m\u001b[1;32m     68\u001b[0m         \u001b[0maf\u001b[0m\u001b[0;34m,\u001b[0m \u001b[0msocktype\u001b[0m\u001b[0;34m,\u001b[0m \u001b[0mproto\u001b[0m\u001b[0;34m,\u001b[0m \u001b[0mcanonname\u001b[0m\u001b[0;34m,\u001b[0m \u001b[0msa\u001b[0m \u001b[0;34m=\u001b[0m \u001b[0mres\u001b[0m\u001b[0;34m\u001b[0m\u001b[0m\n",
      "\u001b[0;32m/usr/local/Cellar/python3/3.5.1/Frameworks/Python.framework/Versions/3.5/lib/python3.5/socket.py\u001b[0m in \u001b[0;36mgetaddrinfo\u001b[0;34m(host, port, family, type, proto, flags)\u001b[0m\n\u001b[1;32m    731\u001b[0m     \u001b[0maddrlist\u001b[0m \u001b[0;34m=\u001b[0m \u001b[0;34m[\u001b[0m\u001b[0;34m]\u001b[0m\u001b[0;34m\u001b[0m\u001b[0m\n\u001b[0;32m--> 732\u001b[0;31m     \u001b[0;32mfor\u001b[0m \u001b[0mres\u001b[0m \u001b[0;32min\u001b[0m \u001b[0m_socket\u001b[0m\u001b[0;34m.\u001b[0m\u001b[0mgetaddrinfo\u001b[0m\u001b[0;34m(\u001b[0m\u001b[0mhost\u001b[0m\u001b[0;34m,\u001b[0m \u001b[0mport\u001b[0m\u001b[0;34m,\u001b[0m \u001b[0mfamily\u001b[0m\u001b[0;34m,\u001b[0m \u001b[0mtype\u001b[0m\u001b[0;34m,\u001b[0m \u001b[0mproto\u001b[0m\u001b[0;34m,\u001b[0m \u001b[0mflags\u001b[0m\u001b[0;34m)\u001b[0m\u001b[0;34m:\u001b[0m\u001b[0;34m\u001b[0m\u001b[0m\n\u001b[0m\u001b[1;32m    733\u001b[0m         \u001b[0maf\u001b[0m\u001b[0;34m,\u001b[0m \u001b[0msocktype\u001b[0m\u001b[0;34m,\u001b[0m \u001b[0mproto\u001b[0m\u001b[0;34m,\u001b[0m \u001b[0mcanonname\u001b[0m\u001b[0;34m,\u001b[0m \u001b[0msa\u001b[0m \u001b[0;34m=\u001b[0m \u001b[0mres\u001b[0m\u001b[0;34m\u001b[0m\u001b[0m\n",
      "\u001b[0;31mgaierror\u001b[0m: [Errno 8] nodename nor servname provided, or not known",
      "\nDuring handling of the above exception, another exception occurred:\n",
      "\u001b[0;31mNewConnectionError\u001b[0m                        Traceback (most recent call last)",
      "\u001b[0;32m/usr/local/lib/python3.5/site-packages/requests/packages/urllib3/connectionpool.py\u001b[0m in \u001b[0;36murlopen\u001b[0;34m(self, method, url, body, headers, retries, redirect, assert_same_host, timeout, pool_timeout, release_conn, **response_kw)\u001b[0m\n\u001b[1;32m    558\u001b[0m                                                   \u001b[0mtimeout\u001b[0m\u001b[0;34m=\u001b[0m\u001b[0mtimeout_obj\u001b[0m\u001b[0;34m,\u001b[0m\u001b[0;34m\u001b[0m\u001b[0m\n\u001b[0;32m--> 559\u001b[0;31m                                                   body=body, headers=headers)\n\u001b[0m\u001b[1;32m    560\u001b[0m \u001b[0;34m\u001b[0m\u001b[0m\n",
      "\u001b[0;32m/usr/local/lib/python3.5/site-packages/requests/packages/urllib3/connectionpool.py\u001b[0m in \u001b[0;36m_make_request\u001b[0;34m(self, conn, method, url, timeout, **httplib_request_kw)\u001b[0m\n\u001b[1;32m    344\u001b[0m         \u001b[0;32mtry\u001b[0m\u001b[0;34m:\u001b[0m\u001b[0;34m\u001b[0m\u001b[0m\n\u001b[0;32m--> 345\u001b[0;31m             \u001b[0mself\u001b[0m\u001b[0;34m.\u001b[0m\u001b[0m_validate_conn\u001b[0m\u001b[0;34m(\u001b[0m\u001b[0mconn\u001b[0m\u001b[0;34m)\u001b[0m\u001b[0;34m\u001b[0m\u001b[0m\n\u001b[0m\u001b[1;32m    346\u001b[0m         \u001b[0;32mexcept\u001b[0m \u001b[0;34m(\u001b[0m\u001b[0mSocketTimeout\u001b[0m\u001b[0;34m,\u001b[0m \u001b[0mBaseSSLError\u001b[0m\u001b[0;34m)\u001b[0m \u001b[0;32mas\u001b[0m \u001b[0me\u001b[0m\u001b[0;34m:\u001b[0m\u001b[0;34m\u001b[0m\u001b[0m\n",
      "\u001b[0;32m/usr/local/lib/python3.5/site-packages/requests/packages/urllib3/connectionpool.py\u001b[0m in \u001b[0;36m_validate_conn\u001b[0;34m(self, conn)\u001b[0m\n\u001b[1;32m    783\u001b[0m         \u001b[0;32mif\u001b[0m \u001b[0;32mnot\u001b[0m \u001b[0mgetattr\u001b[0m\u001b[0;34m(\u001b[0m\u001b[0mconn\u001b[0m\u001b[0;34m,\u001b[0m \u001b[0;34m'sock'\u001b[0m\u001b[0;34m,\u001b[0m \u001b[0;32mNone\u001b[0m\u001b[0;34m)\u001b[0m\u001b[0;34m:\u001b[0m  \u001b[0;31m# AppEngine might not have  `.sock`\u001b[0m\u001b[0;34m\u001b[0m\u001b[0m\n\u001b[0;32m--> 784\u001b[0;31m             \u001b[0mconn\u001b[0m\u001b[0;34m.\u001b[0m\u001b[0mconnect\u001b[0m\u001b[0;34m(\u001b[0m\u001b[0;34m)\u001b[0m\u001b[0;34m\u001b[0m\u001b[0m\n\u001b[0m\u001b[1;32m    785\u001b[0m \u001b[0;34m\u001b[0m\u001b[0m\n",
      "\u001b[0;32m/usr/local/lib/python3.5/site-packages/requests/packages/urllib3/connection.py\u001b[0m in \u001b[0;36mconnect\u001b[0;34m(self)\u001b[0m\n\u001b[1;32m    216\u001b[0m         \u001b[0;31m# Add certificate verification\u001b[0m\u001b[0;34m\u001b[0m\u001b[0;34m\u001b[0m\u001b[0m\n\u001b[0;32m--> 217\u001b[0;31m         \u001b[0mconn\u001b[0m \u001b[0;34m=\u001b[0m \u001b[0mself\u001b[0m\u001b[0;34m.\u001b[0m\u001b[0m_new_conn\u001b[0m\u001b[0;34m(\u001b[0m\u001b[0;34m)\u001b[0m\u001b[0;34m\u001b[0m\u001b[0m\n\u001b[0m\u001b[1;32m    218\u001b[0m \u001b[0;34m\u001b[0m\u001b[0m\n",
      "\u001b[0;32m/usr/local/lib/python3.5/site-packages/requests/packages/urllib3/connection.py\u001b[0m in \u001b[0;36m_new_conn\u001b[0;34m(self)\u001b[0m\n\u001b[1;32m    145\u001b[0m             raise NewConnectionError(\n\u001b[0;32m--> 146\u001b[0;31m                 self, \"Failed to establish a new connection: %s\" % e)\n\u001b[0m\u001b[1;32m    147\u001b[0m \u001b[0;34m\u001b[0m\u001b[0m\n",
      "\u001b[0;31mNewConnectionError\u001b[0m: <requests.packages.urllib3.connection.VerifiedHTTPSConnection object at 0x10fa47898>: Failed to establish a new connection: [Errno 8] nodename nor servname provided, or not known",
      "\nDuring handling of the above exception, another exception occurred:\n",
      "\u001b[0;31mMaxRetryError\u001b[0m                             Traceback (most recent call last)",
      "\u001b[0;32m/usr/local/lib/python3.5/site-packages/requests/adapters.py\u001b[0m in \u001b[0;36msend\u001b[0;34m(self, request, stream, timeout, verify, cert, proxies)\u001b[0m\n\u001b[1;32m    375\u001b[0m                     \u001b[0mretries\u001b[0m\u001b[0;34m=\u001b[0m\u001b[0mself\u001b[0m\u001b[0;34m.\u001b[0m\u001b[0mmax_retries\u001b[0m\u001b[0;34m,\u001b[0m\u001b[0;34m\u001b[0m\u001b[0m\n\u001b[0;32m--> 376\u001b[0;31m                     \u001b[0mtimeout\u001b[0m\u001b[0;34m=\u001b[0m\u001b[0mtimeout\u001b[0m\u001b[0;34m\u001b[0m\u001b[0m\n\u001b[0m\u001b[1;32m    377\u001b[0m                 )\n",
      "\u001b[0;32m/usr/local/lib/python3.5/site-packages/requests/packages/urllib3/connectionpool.py\u001b[0m in \u001b[0;36murlopen\u001b[0;34m(self, method, url, body, headers, retries, redirect, assert_same_host, timeout, pool_timeout, release_conn, **response_kw)\u001b[0m\n\u001b[1;32m    608\u001b[0m             retries = retries.increment(method, url, error=e, _pool=self,\n\u001b[0;32m--> 609\u001b[0;31m                                         _stacktrace=sys.exc_info()[2])\n\u001b[0m\u001b[1;32m    610\u001b[0m             \u001b[0mretries\u001b[0m\u001b[0;34m.\u001b[0m\u001b[0msleep\u001b[0m\u001b[0;34m(\u001b[0m\u001b[0;34m)\u001b[0m\u001b[0;34m\u001b[0m\u001b[0m\n",
      "\u001b[0;32m/usr/local/lib/python3.5/site-packages/requests/packages/urllib3/util/retry.py\u001b[0m in \u001b[0;36mincrement\u001b[0;34m(self, method, url, response, error, _pool, _stacktrace)\u001b[0m\n\u001b[1;32m    272\u001b[0m         \u001b[0;32mif\u001b[0m \u001b[0mnew_retry\u001b[0m\u001b[0;34m.\u001b[0m\u001b[0mis_exhausted\u001b[0m\u001b[0;34m(\u001b[0m\u001b[0;34m)\u001b[0m\u001b[0;34m:\u001b[0m\u001b[0;34m\u001b[0m\u001b[0m\n\u001b[0;32m--> 273\u001b[0;31m             \u001b[0;32mraise\u001b[0m \u001b[0mMaxRetryError\u001b[0m\u001b[0;34m(\u001b[0m\u001b[0m_pool\u001b[0m\u001b[0;34m,\u001b[0m \u001b[0murl\u001b[0m\u001b[0;34m,\u001b[0m \u001b[0merror\u001b[0m \u001b[0;32mor\u001b[0m \u001b[0mResponseError\u001b[0m\u001b[0;34m(\u001b[0m\u001b[0mcause\u001b[0m\u001b[0;34m)\u001b[0m\u001b[0;34m)\u001b[0m\u001b[0;34m\u001b[0m\u001b[0m\n\u001b[0m\u001b[1;32m    274\u001b[0m \u001b[0;34m\u001b[0m\u001b[0m\n",
      "\u001b[0;31mMaxRetryError\u001b[0m: HTTPSConnectionPool(host='api.github.com', port=443): Max retries exceeded with url: /authorizations (Caused by NewConnectionError('<requests.packages.urllib3.connection.VerifiedHTTPSConnection object at 0x10fa47898>: Failed to establish a new connection: [Errno 8] nodename nor servname provided, or not known',))",
      "\nDuring handling of the above exception, another exception occurred:\n",
      "\u001b[0;31mConnectionError\u001b[0m                           Traceback (most recent call last)",
      "\u001b[0;32m<ipython-input-5-547f29b8f849>\u001b[0m in \u001b[0;36m<module>\u001b[0;34m()\u001b[0m\n\u001b[1;32m     14\u001b[0m     \u001b[0murl\u001b[0m\u001b[0;34m,\u001b[0m\u001b[0;34m\u001b[0m\u001b[0m\n\u001b[1;32m     15\u001b[0m     \u001b[0mauth\u001b[0m \u001b[0;34m=\u001b[0m \u001b[0;34m(\u001b[0m\u001b[0musername\u001b[0m\u001b[0;34m,\u001b[0m \u001b[0mpassword\u001b[0m\u001b[0;34m)\u001b[0m\u001b[0;34m,\u001b[0m\u001b[0;34m\u001b[0m\u001b[0m\n\u001b[0;32m---> 16\u001b[0;31m     \u001b[0mdata\u001b[0m \u001b[0;34m=\u001b[0m \u001b[0mjson\u001b[0m\u001b[0;34m.\u001b[0m\u001b[0mdumps\u001b[0m\u001b[0;34m(\u001b[0m\u001b[0mpost_data\u001b[0m\u001b[0;34m)\u001b[0m\u001b[0;34m,\u001b[0m\u001b[0;34m\u001b[0m\u001b[0m\n\u001b[0m\u001b[1;32m     17\u001b[0m     )   \n\u001b[1;32m     18\u001b[0m \u001b[0;34m\u001b[0m\u001b[0m\n",
      "\u001b[0;32m/usr/local/lib/python3.5/site-packages/requests/api.py\u001b[0m in \u001b[0;36mpost\u001b[0;34m(url, data, json, **kwargs)\u001b[0m\n\u001b[1;32m    105\u001b[0m     \"\"\"\n\u001b[1;32m    106\u001b[0m \u001b[0;34m\u001b[0m\u001b[0m\n\u001b[0;32m--> 107\u001b[0;31m     \u001b[0;32mreturn\u001b[0m \u001b[0mrequest\u001b[0m\u001b[0;34m(\u001b[0m\u001b[0;34m'post'\u001b[0m\u001b[0;34m,\u001b[0m \u001b[0murl\u001b[0m\u001b[0;34m,\u001b[0m \u001b[0mdata\u001b[0m\u001b[0;34m=\u001b[0m\u001b[0mdata\u001b[0m\u001b[0;34m,\u001b[0m \u001b[0mjson\u001b[0m\u001b[0;34m=\u001b[0m\u001b[0mjson\u001b[0m\u001b[0;34m,\u001b[0m \u001b[0;34m**\u001b[0m\u001b[0mkwargs\u001b[0m\u001b[0;34m)\u001b[0m\u001b[0;34m\u001b[0m\u001b[0m\n\u001b[0m\u001b[1;32m    108\u001b[0m \u001b[0;34m\u001b[0m\u001b[0m\n\u001b[1;32m    109\u001b[0m \u001b[0;34m\u001b[0m\u001b[0m\n",
      "\u001b[0;32m/usr/local/lib/python3.5/site-packages/requests/api.py\u001b[0m in \u001b[0;36mrequest\u001b[0;34m(method, url, **kwargs)\u001b[0m\n\u001b[1;32m     51\u001b[0m     \u001b[0;31m# cases, and look like a memory leak in others.\u001b[0m\u001b[0;34m\u001b[0m\u001b[0;34m\u001b[0m\u001b[0m\n\u001b[1;32m     52\u001b[0m     \u001b[0;32mwith\u001b[0m \u001b[0msessions\u001b[0m\u001b[0;34m.\u001b[0m\u001b[0mSession\u001b[0m\u001b[0;34m(\u001b[0m\u001b[0;34m)\u001b[0m \u001b[0;32mas\u001b[0m \u001b[0msession\u001b[0m\u001b[0;34m:\u001b[0m\u001b[0;34m\u001b[0m\u001b[0m\n\u001b[0;32m---> 53\u001b[0;31m         \u001b[0;32mreturn\u001b[0m \u001b[0msession\u001b[0m\u001b[0;34m.\u001b[0m\u001b[0mrequest\u001b[0m\u001b[0;34m(\u001b[0m\u001b[0mmethod\u001b[0m\u001b[0;34m=\u001b[0m\u001b[0mmethod\u001b[0m\u001b[0;34m,\u001b[0m \u001b[0murl\u001b[0m\u001b[0;34m=\u001b[0m\u001b[0murl\u001b[0m\u001b[0;34m,\u001b[0m \u001b[0;34m**\u001b[0m\u001b[0mkwargs\u001b[0m\u001b[0;34m)\u001b[0m\u001b[0;34m\u001b[0m\u001b[0m\n\u001b[0m\u001b[1;32m     54\u001b[0m \u001b[0;34m\u001b[0m\u001b[0m\n\u001b[1;32m     55\u001b[0m \u001b[0;34m\u001b[0m\u001b[0m\n",
      "\u001b[0;32m/usr/local/lib/python3.5/site-packages/requests/sessions.py\u001b[0m in \u001b[0;36mrequest\u001b[0;34m(self, method, url, params, data, headers, cookies, files, auth, timeout, allow_redirects, proxies, hooks, stream, verify, cert, json)\u001b[0m\n\u001b[1;32m    466\u001b[0m         }\n\u001b[1;32m    467\u001b[0m         \u001b[0msend_kwargs\u001b[0m\u001b[0;34m.\u001b[0m\u001b[0mupdate\u001b[0m\u001b[0;34m(\u001b[0m\u001b[0msettings\u001b[0m\u001b[0;34m)\u001b[0m\u001b[0;34m\u001b[0m\u001b[0m\n\u001b[0;32m--> 468\u001b[0;31m         \u001b[0mresp\u001b[0m \u001b[0;34m=\u001b[0m \u001b[0mself\u001b[0m\u001b[0;34m.\u001b[0m\u001b[0msend\u001b[0m\u001b[0;34m(\u001b[0m\u001b[0mprep\u001b[0m\u001b[0;34m,\u001b[0m \u001b[0;34m**\u001b[0m\u001b[0msend_kwargs\u001b[0m\u001b[0;34m)\u001b[0m\u001b[0;34m\u001b[0m\u001b[0m\n\u001b[0m\u001b[1;32m    469\u001b[0m \u001b[0;34m\u001b[0m\u001b[0m\n\u001b[1;32m    470\u001b[0m         \u001b[0;32mreturn\u001b[0m \u001b[0mresp\u001b[0m\u001b[0;34m\u001b[0m\u001b[0m\n",
      "\u001b[0;32m/usr/local/lib/python3.5/site-packages/requests/sessions.py\u001b[0m in \u001b[0;36msend\u001b[0;34m(self, request, **kwargs)\u001b[0m\n\u001b[1;32m    574\u001b[0m \u001b[0;34m\u001b[0m\u001b[0m\n\u001b[1;32m    575\u001b[0m         \u001b[0;31m# Send the request\u001b[0m\u001b[0;34m\u001b[0m\u001b[0;34m\u001b[0m\u001b[0m\n\u001b[0;32m--> 576\u001b[0;31m         \u001b[0mr\u001b[0m \u001b[0;34m=\u001b[0m \u001b[0madapter\u001b[0m\u001b[0;34m.\u001b[0m\u001b[0msend\u001b[0m\u001b[0;34m(\u001b[0m\u001b[0mrequest\u001b[0m\u001b[0;34m,\u001b[0m \u001b[0;34m**\u001b[0m\u001b[0mkwargs\u001b[0m\u001b[0;34m)\u001b[0m\u001b[0;34m\u001b[0m\u001b[0m\n\u001b[0m\u001b[1;32m    577\u001b[0m \u001b[0;34m\u001b[0m\u001b[0m\n\u001b[1;32m    578\u001b[0m         \u001b[0;31m# Total elapsed time of the request (approximately)\u001b[0m\u001b[0;34m\u001b[0m\u001b[0;34m\u001b[0m\u001b[0m\n",
      "\u001b[0;32m/usr/local/lib/python3.5/site-packages/requests/adapters.py\u001b[0m in \u001b[0;36msend\u001b[0;34m(self, request, stream, timeout, verify, cert, proxies)\u001b[0m\n\u001b[1;32m    435\u001b[0m                 \u001b[0;32mraise\u001b[0m \u001b[0mRetryError\u001b[0m\u001b[0;34m(\u001b[0m\u001b[0me\u001b[0m\u001b[0;34m,\u001b[0m \u001b[0mrequest\u001b[0m\u001b[0;34m=\u001b[0m\u001b[0mrequest\u001b[0m\u001b[0;34m)\u001b[0m\u001b[0;34m\u001b[0m\u001b[0m\n\u001b[1;32m    436\u001b[0m \u001b[0;34m\u001b[0m\u001b[0m\n\u001b[0;32m--> 437\u001b[0;31m             \u001b[0;32mraise\u001b[0m \u001b[0mConnectionError\u001b[0m\u001b[0;34m(\u001b[0m\u001b[0me\u001b[0m\u001b[0;34m,\u001b[0m \u001b[0mrequest\u001b[0m\u001b[0;34m=\u001b[0m\u001b[0mrequest\u001b[0m\u001b[0;34m)\u001b[0m\u001b[0;34m\u001b[0m\u001b[0m\n\u001b[0m\u001b[1;32m    438\u001b[0m \u001b[0;34m\u001b[0m\u001b[0m\n\u001b[1;32m    439\u001b[0m         \u001b[0;32mexcept\u001b[0m \u001b[0mClosedPoolError\u001b[0m \u001b[0;32mas\u001b[0m \u001b[0me\u001b[0m\u001b[0;34m:\u001b[0m\u001b[0;34m\u001b[0m\u001b[0m\n",
      "\u001b[0;31mConnectionError\u001b[0m: HTTPSConnectionPool(host='api.github.com', port=443): Max retries exceeded with url: /authorizations (Caused by NewConnectionError('<requests.packages.urllib3.connection.VerifiedHTTPSConnection object at 0x10fa47898>: Failed to establish a new connection: [Errno 8] nodename nor servname provided, or not known',))"
     ]
    }
   ],
   "source": [
    "import requests\n",
    "from getpass import getpass\n",
    "import json\n",
    "\n",
    "username = 'robin-liu-1983' # Your GitHub username\n",
    "password = '?Lb!816003' # Your GitHub password\n",
    "\n",
    "# Note that credentials will be transmitted over a secure SSL connection\n",
    "url = 'https://api.github.com/authorizations'\n",
    "note = 'aa'\n",
    "post_data = {'scopes':['repo'],'note': note }\n",
    "\n",
    "response = requests.post(\n",
    "    url,\n",
    "    auth = (username, password),\n",
    "    data = json.dumps(post_data),\n",
    "    )   \n",
    "\n",
    "print(\"API response:\", response.text)\n",
    "print(\"Your OAuth token is\", response.json()['token'])\n",
    "\n",
    "# Go to https://github.com/settings/applications to revoke this token"
   ]
  },
  {
   "cell_type": "markdown",
   "metadata": {},
   "source": [
    "## Example 2. Making direct HTTP requests to GitHub's API"
   ]
  },
  {
   "cell_type": "code",
   "execution_count": 7,
   "metadata": {
    "collapsed": false
   },
   "outputs": [
    {
     "name": "stdout",
     "output_type": "stream",
     "text": [
      "{\n",
      " \"received_events_url\": \"https://api.github.com/users/georgebellos/received_events\",\n",
      " \"login\": \"georgebellos\",\n",
      " \"avatar_url\": \"https://avatars.githubusercontent.com/u/13009?v=3\",\n",
      " \"events_url\": \"https://api.github.com/users/georgebellos/events{/privacy}\",\n",
      " \"organizations_url\": \"https://api.github.com/users/georgebellos/orgs\",\n",
      " \"subscriptions_url\": \"https://api.github.com/users/georgebellos/subscriptions\",\n",
      " \"type\": \"User\",\n",
      " \"repos_url\": \"https://api.github.com/users/georgebellos/repos\",\n",
      " \"html_url\": \"https://github.com/georgebellos\",\n",
      " \"starred_url\": \"https://api.github.com/users/georgebellos/starred{/owner}{/repo}\",\n",
      " \"followers_url\": \"https://api.github.com/users/georgebellos/followers\",\n",
      " \"site_admin\": false,\n",
      " \"gravatar_id\": \"\",\n",
      " \"url\": \"https://api.github.com/users/georgebellos\",\n",
      " \"id\": 13009,\n",
      " \"gists_url\": \"https://api.github.com/users/georgebellos/gists{/gist_id}\",\n",
      " \"following_url\": \"https://api.github.com/users/georgebellos/following{/other_user}\"\n",
      "}\n",
      "X-GitHub-Request-Id => 6A25B50F:C8D4:220AC7BC:56CACD98\n",
      "Strict-Transport-Security => max-age=31536000; includeSubdomains; preload\n",
      "Content-Type => application/json; charset=utf-8\n",
      "Status => 200 OK\n",
      "X-Served-By => 065b43cd9674091fec48a221b420fbb3\n",
      "X-XSS-Protection => 1; mode=block\n",
      "X-GitHub-Media-Type => github.v3\n",
      "Cache-Control => public, max-age=60, s-maxage=60\n",
      "X-RateLimit-Remaining => 59\n",
      "X-Frame-Options => deny\n",
      "Vary => Accept, Accept-Encoding\n",
      "X-Content-Type-Options => nosniff\n",
      "Transfer-Encoding => chunked\n",
      "Access-Control-Expose-Headers => ETag, Link, X-GitHub-OTP, X-RateLimit-Limit, X-RateLimit-Remaining, X-RateLimit-Reset, X-OAuth-Scopes, X-Accepted-OAuth-Scopes, X-Poll-Interval\n",
      "Access-Control-Allow-Credentials => true\n",
      "Link => <https://api.github.com/repositories/1040700/stargazers?page=2>; rel=\"next\", <https://api.github.com/repositories/1040700/stargazers?page=36>; rel=\"last\"\n",
      "Content-Encoding => gzip\n",
      "ETag => W/\"ccecbb8f902b5668c3d206bef821fc7c\"\n",
      "Date => Mon, 22 Feb 2016 08:58:04 GMT\n",
      "X-RateLimit-Limit => 60\n",
      "Content-Security-Policy => default-src 'none'\n",
      "Access-Control-Allow-Origin => *\n",
      "X-RateLimit-Reset => 1456135084\n",
      "Server => GitHub.com\n"
     ]
    }
   ],
   "source": [
    "import json\n",
    "import requests\n",
    "\n",
    "# An unauthenticated request that doesn't contain an ?access_token=xxx query string\n",
    "url = \"https://api.github.com/repos/ptwobrussell/Mining-the-Social-Web/stargazers\"\n",
    "response = requests.get(url)\n",
    "\n",
    "# Display one stargazer\n",
    "\n",
    "print(json.dumps(response.json()[0], indent=1))\n",
    "\n",
    "# Display headers\n",
    "for (k,v) in response.headers.items():\n",
    "    print(k, \"=>\", v)"
   ]
  },
  {
   "cell_type": "markdown",
   "metadata": {},
   "source": [
    "## Example 3. Using PyGithub to query for stargazers of a particular repository"
   ]
  },
  {
   "cell_type": "code",
   "execution_count": 8,
   "metadata": {
    "collapsed": false
   },
   "outputs": [
    {
     "name": "stdout",
     "output_type": "stream",
     "text": [
      "Number of stargazers 1057\n"
     ]
    }
   ],
   "source": [
    "from github import Github\n",
    "\n",
    "# XXX: Specify your own access token here\n",
    "\n",
    "ACCESS_TOKEN = 'dccfb9019a795b07da9a221ff33c082be0243ec0'\n",
    "\n",
    "# Specify a username and repository of interest for that user.\n",
    "\n",
    "USER = 'ptwobrussell'\n",
    "REPO = 'Mining-the-Social-Web'\n",
    "\n",
    "client = Github(ACCESS_TOKEN, per_page=100)\n",
    "user = client.get_user(USER)\n",
    "repo = user.get_repo(REPO)\n",
    "\n",
    "# Get a list of people who have bookmarked the repo.\n",
    "# Since you'll get a lazy iterator back, you have to traverse\n",
    "# it if you want to get the total number of stargazers.\n",
    "\n",
    "stargazers = [ s for s in repo.get_stargazers() ]\n",
    "print(\"Number of stargazers\", len(stargazers))"
   ]
  },
  {
   "cell_type": "markdown",
   "metadata": {},
   "source": [
    "## Example 4. Constructing a trivial property graph"
   ]
  },
  {
   "cell_type": "code",
   "execution_count": 25,
   "metadata": {
    "collapsed": false
   },
   "outputs": [
    {
     "name": "stdout",
     "output_type": "stream",
     "text": [
      "Name: \n",
      "Type: DiGraph\n",
      "Number of nodes: 2\n",
      "Number of edges: 1\n",
      "Average in degree:   0.5000\n",
      "Average out degree:   0.5000\n",
      "Nodes: ['X', 'Y']\n",
      "Edges: [('X', 'Y')]\n",
      "X props: {}\n",
      "Y props: {}\n",
      "X=>Y props: {}\n",
      "X props: {'prop1': 'value1'}\n",
      "X=>Y props: {'label': 'label1'}\n"
     ]
    }
   ],
   "source": [
    "import networkx as nx\n",
    "\n",
    "# Create a directed graph\n",
    "\n",
    "g = nx.DiGraph()\n",
    "\n",
    "# Add an edge to the directed graph from X to Y\n",
    "\n",
    "g.add_edge('X', 'Y')\n",
    "\n",
    "# Print some statistics about the graph\n",
    "\n",
    "print(nx.info(g))\n",
    "\n",
    "# Get the nodes and edges from the graph\n",
    "\n",
    "print(\"Nodes:\", g.nodes())\n",
    "print(\"Edges:\", g.edges())\n",
    "\n",
    "# Get node properties\n",
    "\n",
    "print(\"X props:\", g.node['X'])\n",
    "print(\"Y props:\", g.node['Y'])\n",
    "\n",
    "# Get edge properties\n",
    "\n",
    "print(\"X=>Y props:\", g['X']['Y'])\n",
    "\n",
    "# Update a node property\n",
    "\n",
    "g.node['X'].update({'prop1' : 'value1'})\n",
    "print(\"X props:\", g.node['X'])\n",
    "\n",
    "# Update an edge property\n",
    "\n",
    "g['X']['Y'].update({'label' : 'label1'})\n",
    "print(\"X=>Y props:\", g['X']['Y'])"
   ]
  },
  {
   "cell_type": "markdown",
   "metadata": {},
   "source": [
    "## Example 5. Constructing an ego graph of a repository and its stargazers"
   ]
  },
  {
   "cell_type": "code",
   "execution_count": 10,
   "metadata": {
    "collapsed": false
   },
   "outputs": [],
   "source": [
    "# Expand the initial graph with (interest) edges pointing each direction for \n",
    "# additional people interested. Take care to ensure that user and repo nodes \n",
    "# do not collide by appending their type.\n",
    "\n",
    "import networkx as nx\n",
    "\n",
    "g = nx.DiGraph()\n",
    "g.add_node(repo.name + '(repo)', type='repo', lang=repo.language, owner=user.login)\n",
    "\n",
    "for sg in stargazers:\n",
    "    g.add_node(sg.login + '(user)', type='user')\n",
    "    g.add_edge(sg.login + '(user)', repo.name + '(repo)', type='gazes')"
   ]
  },
  {
   "cell_type": "markdown",
   "metadata": {},
   "source": [
    "## Example 6. Introducing some handy graph operations"
   ]
  },
  {
   "cell_type": "code",
   "execution_count": 29,
   "metadata": {
    "collapsed": false
   },
   "outputs": [
    {
     "name": "stdout",
     "output_type": "stream",
     "text": [
      "Name: \n",
      "Type: DiGraph\n",
      "Number of nodes: 1058\n",
      "Number of edges: 1057\n",
      "Average in degree:   0.9991\n",
      "Average out degree:   0.9991\n",
      "{'lang': 'JavaScript', 'owner': 'ptwobrussell', 'type': 'repo'}\n",
      "{'type': 'user'}\n",
      "{'type': 'gazes'}\n",
      "{'Mining-the-Social-Web(repo)': {'type': 'gazes'}}\n",
      "{}\n",
      "[]\n",
      "[('ptwobrussell(user)', 'Mining-the-Social-Web(repo)')]\n",
      "[('bcambel(user)', 'Mining-the-Social-Web(repo)'), ('twleung(user)', 'Mining-the-Social-Web(repo)'), ('rossant(user)', 'Mining-the-Social-Web(repo)'), ('lg2046(user)', 'Mining-the-Social-Web(repo)'), ('richallensf(user)', 'Mining-the-Social-Web(repo)'), ('JT5D(user)', 'Mining-the-Social-Web(repo)'), ('aaronlifton(user)', 'Mining-the-Social-Web(repo)'), ('joepestro(user)', 'Mining-the-Social-Web(repo)'), ('klaut(user)', 'Mining-the-Social-Web(repo)'), ('sudar(user)', 'Mining-the-Social-Web(repo)'), ('cacciaresi(user)', 'Mining-the-Social-Web(repo)'), ('paulhoule(user)', 'Mining-the-Social-Web(repo)'), ('BrentAuble(user)', 'Mining-the-Social-Web(repo)'), ('yiseul(user)', 'Mining-the-Social-Web(repo)'), ('jasonbogovich(user)', 'Mining-the-Social-Web(repo)'), ('KevinOfNeu(user)', 'Mining-the-Social-Web(repo)'), ('SamLebarbare(user)', 'Mining-the-Social-Web(repo)'), ('barbietunnie(user)', 'Mining-the-Social-Web(repo)'), ('wendyran(user)', 'Mining-the-Social-Web(repo)'), ('hackrole(user)', 'Mining-the-Social-Web(repo)'), ('prashanthmcr(user)', 'Mining-the-Social-Web(repo)'), ('lmazzon(user)', 'Mining-the-Social-Web(repo)'), ('kharakawa(user)', 'Mining-the-Social-Web(repo)'), ('gawry(user)', 'Mining-the-Social-Web(repo)'), ('msonsona(user)', 'Mining-the-Social-Web(repo)'), ('vkurchatkin(user)', 'Mining-the-Social-Web(repo)'), ('suzuki(user)', 'Mining-the-Social-Web(repo)'), ('amejiarosario(user)', 'Mining-the-Social-Web(repo)'), ('Doppp(user)', 'Mining-the-Social-Web(repo)'), ('0x27(user)', 'Mining-the-Social-Web(repo)'), ('Xeoncross(user)', 'Mining-the-Social-Web(repo)'), ('negrond(user)', 'Mining-the-Social-Web(repo)'), ('chunhuawu(user)', 'Mining-the-Social-Web(repo)'), ('parama(user)', 'Mining-the-Social-Web(repo)'), ('ZwyAnswer(user)', 'Mining-the-Social-Web(repo)'), ('liuyix(user)', 'Mining-the-Social-Web(repo)'), ('fozbaca(user)', 'Mining-the-Social-Web(repo)'), ('ayakix(user)', 'Mining-the-Social-Web(repo)'), ('ramkrsna(user)', 'Mining-the-Social-Web(repo)'), ('marksands(user)', 'Mining-the-Social-Web(repo)'), ('flashus(user)', 'Mining-the-Social-Web(repo)'), ('purplecow(user)', 'Mining-the-Social-Web(repo)'), ('csjones(user)', 'Mining-the-Social-Web(repo)'), ('sraghav(user)', 'Mining-the-Social-Web(repo)'), ('gavinmh(user)', 'Mining-the-Social-Web(repo)'), ('carlditzler(user)', 'Mining-the-Social-Web(repo)'), ('sjwilliams(user)', 'Mining-the-Social-Web(repo)'), ('JonWeinberg(user)', 'Mining-the-Social-Web(repo)'), ('dasfaha(user)', 'Mining-the-Social-Web(repo)'), ('lrvick(user)', 'Mining-the-Social-Web(repo)'), ('gaohao(user)', 'Mining-the-Social-Web(repo)'), ('FrankRouter(user)', 'Mining-the-Social-Web(repo)'), ('zeristor(user)', 'Mining-the-Social-Web(repo)'), ('yhj8341(user)', 'Mining-the-Social-Web(repo)'), ('Gonzillaaa(user)', 'Mining-the-Social-Web(repo)'), ('sandyleo26(user)', 'Mining-the-Social-Web(repo)'), ('blynch(user)', 'Mining-the-Social-Web(repo)'), ('jcamacaro(user)', 'Mining-the-Social-Web(repo)'), ('hertzel(user)', 'Mining-the-Social-Web(repo)'), ('wmelton(user)', 'Mining-the-Social-Web(repo)'), ('rdempsey(user)', 'Mining-the-Social-Web(repo)'), ('guiambros(user)', 'Mining-the-Social-Web(repo)'), ('lkrids(user)', 'Mining-the-Social-Web(repo)'), ('beinvest(user)', 'Mining-the-Social-Web(repo)'), ('anirudhjoshi(user)', 'Mining-the-Social-Web(repo)'), ('rytis(user)', 'Mining-the-Social-Web(repo)'), ('ygbr(user)', 'Mining-the-Social-Web(repo)'), ('henri-nourel(user)', 'Mining-the-Social-Web(repo)'), ('cmcgovern(user)', 'Mining-the-Social-Web(repo)'), ('hiorws(user)', 'Mining-the-Social-Web(repo)'), ('abecciu(user)', 'Mining-the-Social-Web(repo)'), ('marcbelmont(user)', 'Mining-the-Social-Web(repo)'), ('phauly(user)', 'Mining-the-Social-Web(repo)'), ('megansquire(user)', 'Mining-the-Social-Web(repo)'), ('ya790206(user)', 'Mining-the-Social-Web(repo)'), ('isnowfy(user)', 'Mining-the-Social-Web(repo)'), ('charlesgavin(user)', 'Mining-the-Social-Web(repo)'), ('ggtr1138(user)', 'Mining-the-Social-Web(repo)'), ('semerda(user)', 'Mining-the-Social-Web(repo)'), ('buffpojken(user)', 'Mining-the-Social-Web(repo)'), ('shuhei(user)', 'Mining-the-Social-Web(repo)'), ('bigsnarfdude(user)', 'Mining-the-Social-Web(repo)'), ('sammyrulez(user)', 'Mining-the-Social-Web(repo)'), ('sukottokun(user)', 'Mining-the-Social-Web(repo)'), ('themiurgo(user)', 'Mining-the-Social-Web(repo)'), ('bendaizer(user)', 'Mining-the-Social-Web(repo)'), ('aidiss(user)', 'Mining-the-Social-Web(repo)'), ('miku(user)', 'Mining-the-Social-Web(repo)'), ('sudheervazrapu(user)', 'Mining-the-Social-Web(repo)'), ('tertsch(user)', 'Mining-the-Social-Web(repo)'), ('quakerpunk(user)', 'Mining-the-Social-Web(repo)'), ('tracyliang18(user)', 'Mining-the-Social-Web(repo)'), ('jonathansick(user)', 'Mining-the-Social-Web(repo)'), ('mcanthony(user)', 'Mining-the-Social-Web(repo)'), ('douglas-larocca(user)', 'Mining-the-Social-Web(repo)'), ('sungis(user)', 'Mining-the-Social-Web(repo)'), ('panckreous(user)', 'Mining-the-Social-Web(repo)'), ('aboutaaron(user)', 'Mining-the-Social-Web(repo)'), ('trevorhales(user)', 'Mining-the-Social-Web(repo)'), ('wanpiqiao(user)', 'Mining-the-Social-Web(repo)'), ('antiviruser(user)', 'Mining-the-Social-Web(repo)'), ('JimberXin(user)', 'Mining-the-Social-Web(repo)'), ('lilylabo(user)', 'Mining-the-Social-Web(repo)'), ('mikeloukides(user)', 'Mining-the-Social-Web(repo)'), ('jonathanyee(user)', 'Mining-the-Social-Web(repo)'), ('orlandoferrer(user)', 'Mining-the-Social-Web(repo)'), ('bobdia(user)', 'Mining-the-Social-Web(repo)'), ('lixiaojun(user)', 'Mining-the-Social-Web(repo)'), ('soumyasd(user)', 'Mining-the-Social-Web(repo)'), ('ardendertat(user)', 'Mining-the-Social-Web(repo)'), ('amitagrawal(user)', 'Mining-the-Social-Web(repo)'), ('pinoystartup(user)', 'Mining-the-Social-Web(repo)'), ('cpyo(user)', 'Mining-the-Social-Web(repo)'), ('sfahad46(user)', 'Mining-the-Social-Web(repo)'), ('srinatar(user)', 'Mining-the-Social-Web(repo)'), ('pantelis(user)', 'Mining-the-Social-Web(repo)'), ('darkseed(user)', 'Mining-the-Social-Web(repo)'), ('antiface(user)', 'Mining-the-Social-Web(repo)'), ('liujiantong(user)', 'Mining-the-Social-Web(repo)'), ('marctmiller(user)', 'Mining-the-Social-Web(repo)'), ('marco-s(user)', 'Mining-the-Social-Web(repo)'), ('zhenv5(user)', 'Mining-the-Social-Web(repo)'), ('galvez(user)', 'Mining-the-Social-Web(repo)'), ('freemandealer(user)', 'Mining-the-Social-Web(repo)'), ('getnpk(user)', 'Mining-the-Social-Web(repo)'), ('tishon(user)', 'Mining-the-Social-Web(repo)'), ('eughenes(user)', 'Mining-the-Social-Web(repo)'), ('jingle(user)', 'Mining-the-Social-Web(repo)'), ('theresia(user)', 'Mining-the-Social-Web(repo)'), ('khurchla(user)', 'Mining-the-Social-Web(repo)'), ('daseme(user)', 'Mining-the-Social-Web(repo)'), ('manav(user)', 'Mining-the-Social-Web(repo)'), ('nada(user)', 'Mining-the-Social-Web(repo)'), ('andypiper(user)', 'Mining-the-Social-Web(repo)'), ('kennethreitz(user)', 'Mining-the-Social-Web(repo)'), ('EugeneLiang(user)', 'Mining-the-Social-Web(repo)'), ('webmaven(user)', 'Mining-the-Social-Web(repo)'), ('coronin(user)', 'Mining-the-Social-Web(repo)'), ('MichaelMartinez(user)', 'Mining-the-Social-Web(repo)'), ('sunchengjie(user)', 'Mining-the-Social-Web(repo)'), ('pdailey(user)', 'Mining-the-Social-Web(repo)'), ('yishino22(user)', 'Mining-the-Social-Web(repo)'), ('fone4u(user)', 'Mining-the-Social-Web(repo)'), ('milmazz(user)', 'Mining-the-Social-Web(repo)'), ('JacekAmbroziak(user)', 'Mining-the-Social-Web(repo)'), ('andravasile(user)', 'Mining-the-Social-Web(repo)'), ('javouhey(user)', 'Mining-the-Social-Web(repo)'), ('ConceptKreator(user)', 'Mining-the-Social-Web(repo)'), ('screaming(user)', 'Mining-the-Social-Web(repo)'), ('wbzyl(user)', 'Mining-the-Social-Web(repo)'), ('dgryski(user)', 'Mining-the-Social-Web(repo)'), ('zaynaib(user)', 'Mining-the-Social-Web(repo)'), ('Btibert3(user)', 'Mining-the-Social-Web(repo)'), ('ayaniimi213(user)', 'Mining-the-Social-Web(repo)'), ('j0t4(user)', 'Mining-the-Social-Web(repo)'), ('slojo404(user)', 'Mining-the-Social-Web(repo)'), ('allen3921(user)', 'Mining-the-Social-Web(repo)'), ('shaunc(user)', 'Mining-the-Social-Web(repo)'), ('hanksudo(user)', 'Mining-the-Social-Web(repo)'), ('barce(user)', 'Mining-the-Social-Web(repo)'), ('iwanbk(user)', 'Mining-the-Social-Web(repo)'), ('phildow(user)', 'Mining-the-Social-Web(repo)'), ('yellowBirdy(user)', 'Mining-the-Social-Web(repo)'), ('iaind(user)', 'Mining-the-Social-Web(repo)'), ('mhaidarh(user)', 'Mining-the-Social-Web(repo)'), ('mrcrabby(user)', 'Mining-the-Social-Web(repo)'), ('ggarlic(user)', 'Mining-the-Social-Web(repo)'), ('lesbleus2007(user)', 'Mining-the-Social-Web(repo)'), ('dworznik(user)', 'Mining-the-Social-Web(repo)'), ('gar(user)', 'Mining-the-Social-Web(repo)'), ('brooklynrob(user)', 'Mining-the-Social-Web(repo)'), ('jah2488(user)', 'Mining-the-Social-Web(repo)'), ('ningandma(user)', 'Mining-the-Social-Web(repo)'), ('empjustine(user)', 'Mining-the-Social-Web(repo)'), ('shurik(user)', 'Mining-the-Social-Web(repo)'), ('zhouzhuojie(user)', 'Mining-the-Social-Web(repo)'), ('shancci(user)', 'Mining-the-Social-Web(repo)'), ('pxue(user)', 'Mining-the-Social-Web(repo)'), ('hammer(user)', 'Mining-the-Social-Web(repo)'), ('chengen(user)', 'Mining-the-Social-Web(repo)'), ('mduering(user)', 'Mining-the-Social-Web(repo)'), ('shijinkui(user)', 'Mining-the-Social-Web(repo)'), ('inkless(user)', 'Mining-the-Social-Web(repo)'), ('henrikno(user)', 'Mining-the-Social-Web(repo)'), ('kod3r(user)', 'Mining-the-Social-Web(repo)'), ('tttxxx(user)', 'Mining-the-Social-Web(repo)'), ('lslab(user)', 'Mining-the-Social-Web(repo)'), ('ichim-david(user)', 'Mining-the-Social-Web(repo)'), ('wojtha(user)', 'Mining-the-Social-Web(repo)'), ('virajkulkarni14(user)', 'Mining-the-Social-Web(repo)'), ('elg0nz(user)', 'Mining-the-Social-Web(repo)'), ('bin3(user)', 'Mining-the-Social-Web(repo)'), ('mahmoudimus(user)', 'Mining-the-Social-Web(repo)'), ('morpheme(user)', 'Mining-the-Social-Web(repo)'), ('skpatidar(user)', 'Mining-the-Social-Web(repo)'), ('BrianPin(user)', 'Mining-the-Social-Web(repo)'), ('MadDataScience(user)', 'Mining-the-Social-Web(repo)'), ('sumnous(user)', 'Mining-the-Social-Web(repo)'), ('rickixie(user)', 'Mining-the-Social-Web(repo)'), ('ikegami-yukino(user)', 'Mining-the-Social-Web(repo)'), ('h2rd(user)', 'Mining-the-Social-Web(repo)'), ('elidupuis(user)', 'Mining-the-Social-Web(repo)'), ('joskid(user)', 'Mining-the-Social-Web(repo)'), ('PowChow(user)', 'Mining-the-Social-Web(repo)'), ('heptal(user)', 'Mining-the-Social-Web(repo)'), ('joshbhamilton(user)', 'Mining-the-Social-Web(repo)'), ('jodyabney(user)', 'Mining-the-Social-Web(repo)'), ('JosephLaurino(user)', 'Mining-the-Social-Web(repo)'), ('soarer(user)', 'Mining-the-Social-Web(repo)'), ('masamik(user)', 'Mining-the-Social-Web(repo)'), ('hellysmile(user)', 'Mining-the-Social-Web(repo)'), ('apetrunev(user)', 'Mining-the-Social-Web(repo)'), ('takuan-osho(user)', 'Mining-the-Social-Web(repo)'), ('boskaiolo(user)', 'Mining-the-Social-Web(repo)'), ('liulinyang(user)', 'Mining-the-Social-Web(repo)'), ('HandyAndyShortStack(user)', 'Mining-the-Social-Web(repo)'), ('roppen(user)', 'Mining-the-Social-Web(repo)'), ('adriaant(user)', 'Mining-the-Social-Web(repo)'), ('NikGero(user)', 'Mining-the-Social-Web(repo)'), ('docete(user)', 'Mining-the-Social-Web(repo)'), ('pkrishnaprasad(user)', 'Mining-the-Social-Web(repo)'), ('pqnga(user)', 'Mining-the-Social-Web(repo)'), ('kevinchiu(user)', 'Mining-the-Social-Web(repo)'), ('valentinzberea(user)', 'Mining-the-Social-Web(repo)'), ('vgoklani(user)', 'Mining-the-Social-Web(repo)'), ('Tommassissimo(user)', 'Mining-the-Social-Web(repo)'), ('davyfeng(user)', 'Mining-the-Social-Web(repo)'), ('LuRsT(user)', 'Mining-the-Social-Web(repo)'), ('jexchan(user)', 'Mining-the-Social-Web(repo)'), ('darwin31(user)', 'Mining-the-Social-Web(repo)'), ('royburns(user)', 'Mining-the-Social-Web(repo)'), ('ssx(user)', 'Mining-the-Social-Web(repo)'), ('lillies(user)', 'Mining-the-Social-Web(repo)'), ('zarzecks(user)', 'Mining-the-Social-Web(repo)'), ('deusnet(user)', 'Mining-the-Social-Web(repo)'), ('kimispencer(user)', 'Mining-the-Social-Web(repo)'), ('gkhnlts(user)', 'Mining-the-Social-Web(repo)'), ('yuxwmail(user)', 'Mining-the-Social-Web(repo)'), ('akton(user)', 'Mining-the-Social-Web(repo)'), ('longislandicetea(user)', 'Mining-the-Social-Web(repo)'), ('nborwankar(user)', 'Mining-the-Social-Web(repo)'), ('samuel(user)', 'Mining-the-Social-Web(repo)'), ('mapio(user)', 'Mining-the-Social-Web(repo)'), ('whitefoxx(user)', 'Mining-the-Social-Web(repo)'), ('Derick13(user)', 'Mining-the-Social-Web(repo)'), ('wangrn(user)', 'Mining-the-Social-Web(repo)'), ('gitmmeanwell(user)', 'Mining-the-Social-Web(repo)'), ('Nooby(user)', 'Mining-the-Social-Web(repo)'), ('immersinn(user)', 'Mining-the-Social-Web(repo)'), ('capitolmuckrakr(user)', 'Mining-the-Social-Web(repo)'), ('4148(user)', 'Mining-the-Social-Web(repo)'), ('matsu911(user)', 'Mining-the-Social-Web(repo)'), ('rbarraud(user)', 'Mining-the-Social-Web(repo)'), ('vvoody(user)', 'Mining-the-Social-Web(repo)'), ('conditionalogic(user)', 'Mining-the-Social-Web(repo)'), ('edwelker(user)', 'Mining-the-Social-Web(repo)'), ('jin-king(user)', 'Mining-the-Social-Web(repo)'), ('ahmads(user)', 'Mining-the-Social-Web(repo)'), ('funwalla(user)', 'Mining-the-Social-Web(repo)'), ('jessegahlla(user)', 'Mining-the-Social-Web(repo)'), ('qianyanseu(user)', 'Mining-the-Social-Web(repo)'), ('eraldcoil(user)', 'Mining-the-Social-Web(repo)'), ('tayashigenori(user)', 'Mining-the-Social-Web(repo)'), ('macdiva(user)', 'Mining-the-Social-Web(repo)'), ('lxj0276(user)', 'Mining-the-Social-Web(repo)'), ('prod-man(user)', 'Mining-the-Social-Web(repo)'), ('subasish(user)', 'Mining-the-Social-Web(repo)'), ('ykakihara(user)', 'Mining-the-Social-Web(repo)'), ('nbyloff(user)', 'Mining-the-Social-Web(repo)'), ('willddy(user)', 'Mining-the-Social-Web(repo)'), ('ch710798472(user)', 'Mining-the-Social-Web(repo)'), ('caryhague(user)', 'Mining-the-Social-Web(repo)'), ('frankk00(user)', 'Mining-the-Social-Web(repo)'), ('mikhailxu(user)', 'Mining-the-Social-Web(repo)'), ('ndarville(user)', 'Mining-the-Social-Web(repo)'), ('chaoticjoy(user)', 'Mining-the-Social-Web(repo)'), ('mike-grayhat(user)', 'Mining-the-Social-Web(repo)'), ('Stecki(user)', 'Mining-the-Social-Web(repo)'), ('gregmoreno(user)', 'Mining-the-Social-Web(repo)'), ('yankay(user)', 'Mining-the-Social-Web(repo)'), ('Macolulu(user)', 'Mining-the-Social-Web(repo)'), ('zhangwenkang(user)', 'Mining-the-Social-Web(repo)'), ('jtmhom88(user)', 'Mining-the-Social-Web(repo)'), ('bngoogle(user)', 'Mining-the-Social-Web(repo)'), ('mpac(user)', 'Mining-the-Social-Web(repo)'), ('jackxu(user)', 'Mining-the-Social-Web(repo)'), ('douglas(user)', 'Mining-the-Social-Web(repo)'), ('vfulco(user)', 'Mining-the-Social-Web(repo)'), ('johnthedebs(user)', 'Mining-the-Social-Web(repo)'), ('nipengadmaster(user)', 'Mining-the-Social-Web(repo)'), ('ndunnage(user)', 'Mining-the-Social-Web(repo)'), ('pedrokoblitz(user)', 'Mining-the-Social-Web(repo)'), ('yxlwfds(user)', 'Mining-the-Social-Web(repo)'), ('oskar-j(user)', 'Mining-the-Social-Web(repo)'), ('todrobbins(user)', 'Mining-the-Social-Web(repo)'), ('lvwangbeta(user)', 'Mining-the-Social-Web(repo)'), ('digvan(user)', 'Mining-the-Social-Web(repo)'), ('manboubird(user)', 'Mining-the-Social-Web(repo)'), ('Vheissu(user)', 'Mining-the-Social-Web(repo)'), ('slaporte(user)', 'Mining-the-Social-Web(repo)'), ('carhartl(user)', 'Mining-the-Social-Web(repo)'), ('claudeck(user)', 'Mining-the-Social-Web(repo)'), ('magnum(user)', 'Mining-the-Social-Web(repo)'), ('visualisierte(user)', 'Mining-the-Social-Web(repo)'), ('gerad(user)', 'Mining-the-Social-Web(repo)'), ('hupili(user)', 'Mining-the-Social-Web(repo)'), ('cenphoenix(user)', 'Mining-the-Social-Web(repo)'), ('hz2003(user)', 'Mining-the-Social-Web(repo)'), ('mattharrison(user)', 'Mining-the-Social-Web(repo)'), ('danielmavi(user)', 'Mining-the-Social-Web(repo)'), ('smokymountains(user)', 'Mining-the-Social-Web(repo)'), ('Kudo(user)', 'Mining-the-Social-Web(repo)'), ('Jamedxs(user)', 'Mining-the-Social-Web(repo)'), ('jonhurlock(user)', 'Mining-the-Social-Web(repo)'), ('cnunciato(user)', 'Mining-the-Social-Web(repo)'), ('tschloss(user)', 'Mining-the-Social-Web(repo)'), ('whuwy(user)', 'Mining-the-Social-Web(repo)'), ('umang94(user)', 'Mining-the-Social-Web(repo)'), ('bootstrapt(user)', 'Mining-the-Social-Web(repo)'), ('bcattle(user)', 'Mining-the-Social-Web(repo)'), ('macorama(user)', 'Mining-the-Social-Web(repo)'), ('xl-y(user)', 'Mining-the-Social-Web(repo)'), ('degiere(user)', 'Mining-the-Social-Web(repo)'), ('rfinkers(user)', 'Mining-the-Social-Web(repo)'), ('jpendry(user)', 'Mining-the-Social-Web(repo)'), ('analyticsPierce(user)', 'Mining-the-Social-Web(repo)'), ('mountcrow(user)', 'Mining-the-Social-Web(repo)'), ('kwaibun(user)', 'Mining-the-Social-Web(repo)'), ('ocowchun(user)', 'Mining-the-Social-Web(repo)'), ('andreigta(user)', 'Mining-the-Social-Web(repo)'), ('forrest001(user)', 'Mining-the-Social-Web(repo)'), ('jensenrf(user)', 'Mining-the-Social-Web(repo)'), ('ehmo(user)', 'Mining-the-Social-Web(repo)'), ('moutai(user)', 'Mining-the-Social-Web(repo)'), ('jumping(user)', 'Mining-the-Social-Web(repo)'), ('edglazer(user)', 'Mining-the-Social-Web(repo)'), ('844792418(user)', 'Mining-the-Social-Web(repo)'), ('cjf4(user)', 'Mining-the-Social-Web(repo)'), ('seanschang(user)', 'Mining-the-Social-Web(repo)'), ('velthuis(user)', 'Mining-the-Social-Web(repo)'), ('zen4ever(user)', 'Mining-the-Social-Web(repo)'), ('alamsal(user)', 'Mining-the-Social-Web(repo)'), ('olovholm(user)', 'Mining-the-Social-Web(repo)'), ('robbfitzsimmons(user)', 'Mining-the-Social-Web(repo)'), ('softpurkelly(user)', 'Mining-the-Social-Web(repo)'), ('numb3r3(user)', 'Mining-the-Social-Web(repo)'), ('JGeovani(user)', 'Mining-the-Social-Web(repo)'), ('osiloke(user)', 'Mining-the-Social-Web(repo)'), ('sabman(user)', 'Mining-the-Social-Web(repo)'), ('holys(user)', 'Mining-the-Social-Web(repo)'), ('xlogik(user)', 'Mining-the-Social-Web(repo)'), ('drelu(user)', 'Mining-the-Social-Web(repo)'), ('kuntoaji(user)', 'Mining-the-Social-Web(repo)'), ('hite(user)', 'Mining-the-Social-Web(repo)'), ('sakares(user)', 'Mining-the-Social-Web(repo)'), ('bugrax(user)', 'Mining-the-Social-Web(repo)'), ('vigo(user)', 'Mining-the-Social-Web(repo)'), ('bcho(user)', 'Mining-the-Social-Web(repo)'), ('eiriks(user)', 'Mining-the-Social-Web(repo)'), ('miron(user)', 'Mining-the-Social-Web(repo)'), ('kiogo(user)', 'Mining-the-Social-Web(repo)'), ('torazuka(user)', 'Mining-the-Social-Web(repo)'), ('janedallaway(user)', 'Mining-the-Social-Web(repo)'), ('ssingh10(user)', 'Mining-the-Social-Web(repo)'), ('shahkushan1(user)', 'Mining-the-Social-Web(repo)'), ('mikedory(user)', 'Mining-the-Social-Web(repo)'), ('wonderisland(user)', 'Mining-the-Social-Web(repo)'), ('brunojm(user)', 'Mining-the-Social-Web(repo)'), ('bossiernesto(user)', 'Mining-the-Social-Web(repo)'), ('dudarev(user)', 'Mining-the-Social-Web(repo)'), ('ngopal(user)', 'Mining-the-Social-Web(repo)'), ('yoghi(user)', 'Mining-the-Social-Web(repo)'), ('brimbrom(user)', 'Mining-the-Social-Web(repo)'), ('jfca(user)', 'Mining-the-Social-Web(repo)'), ('zakobyte(user)', 'Mining-the-Social-Web(repo)'), ('cpatni(user)', 'Mining-the-Social-Web(repo)'), ('aronlindberg(user)', 'Mining-the-Social-Web(repo)'), ('mcroydon(user)', 'Mining-the-Social-Web(repo)'), ('edfine(user)', 'Mining-the-Social-Web(repo)'), ('tisihara(user)', 'Mining-the-Social-Web(repo)'), ('nacht(user)', 'Mining-the-Social-Web(repo)'), ('microamp(user)', 'Mining-the-Social-Web(repo)'), ('zolizoli(user)', 'Mining-the-Social-Web(repo)'), ('semantium(user)', 'Mining-the-Social-Web(repo)'), ('paulgoggin(user)', 'Mining-the-Social-Web(repo)'), ('dazhaoniel(user)', 'Mining-the-Social-Web(repo)'), ('jacktang(user)', 'Mining-the-Social-Web(repo)'), ('sabanana(user)', 'Mining-the-Social-Web(repo)'), ('bertomartin(user)', 'Mining-the-Social-Web(repo)'), ('satybald(user)', 'Mining-the-Social-Web(repo)'), ('Huiyang520(user)', 'Mining-the-Social-Web(repo)'), ('sp0rus(user)', 'Mining-the-Social-Web(repo)'), ('okumin(user)', 'Mining-the-Social-Web(repo)'), ('robstrange(user)', 'Mining-the-Social-Web(repo)'), ('Gal3riel(user)', 'Mining-the-Social-Web(repo)'), ('shotaatago(user)', 'Mining-the-Social-Web(repo)'), ('ngpestelos(user)', 'Mining-the-Social-Web(repo)'), ('amuise(user)', 'Mining-the-Social-Web(repo)'), ('danieljjh(user)', 'Mining-the-Social-Web(repo)'), ('openp2pdesign(user)', 'Mining-the-Social-Web(repo)'), ('jmshoffs0812(user)', 'Mining-the-Social-Web(repo)'), ('mgrouchy(user)', 'Mining-the-Social-Web(repo)'), ('flyer103(user)', 'Mining-the-Social-Web(repo)'), ('aviot(user)', 'Mining-the-Social-Web(repo)'), ('rosco5(user)', 'Mining-the-Social-Web(repo)'), ('lizheming(user)', 'Mining-the-Social-Web(repo)'), ('eduardocereto(user)', 'Mining-the-Social-Web(repo)'), ('shuxue051(user)', 'Mining-the-Social-Web(repo)'), ('sangeethamuralidharan(user)', 'Mining-the-Social-Web(repo)'), ('liule(user)', 'Mining-the-Social-Web(repo)'), ('MaggiePlusPlus(user)', 'Mining-the-Social-Web(repo)'), ('jasonyaw(user)', 'Mining-the-Social-Web(repo)'), ('gregrahn(user)', 'Mining-the-Social-Web(repo)'), ('twistdroach(user)', 'Mining-the-Social-Web(repo)'), ('thaifdotme(user)', 'Mining-the-Social-Web(repo)'), ('xuxiandi(user)', 'Mining-the-Social-Web(repo)'), ('mtayseer(user)', 'Mining-the-Social-Web(repo)'), ('guillermogrande(user)', 'Mining-the-Social-Web(repo)'), ('rabit(user)', 'Mining-the-Social-Web(repo)'), ('van5150(user)', 'Mining-the-Social-Web(repo)'), ('calvdee(user)', 'Mining-the-Social-Web(repo)'), ('girish(user)', 'Mining-the-Social-Web(repo)'), ('tokestermw(user)', 'Mining-the-Social-Web(repo)'), ('maurorodrigues(user)', 'Mining-the-Social-Web(repo)'), ('sleeptillseven(user)', 'Mining-the-Social-Web(repo)'), ('kyrcha(user)', 'Mining-the-Social-Web(repo)'), ('redy(user)', 'Mining-the-Social-Web(repo)'), ('johnthebrave(user)', 'Mining-the-Social-Web(repo)'), ('gawbul(user)', 'Mining-the-Social-Web(repo)'), ('mikedorseyjr(user)', 'Mining-the-Social-Web(repo)'), ('raoulwissink(user)', 'Mining-the-Social-Web(repo)'), ('indiejoseph(user)', 'Mining-the-Social-Web(repo)'), ('metllord(user)', 'Mining-the-Social-Web(repo)'), ('brycepj(user)', 'Mining-the-Social-Web(repo)'), ('mtfelix(user)', 'Mining-the-Social-Web(repo)'), ('echoapp(user)', 'Mining-the-Social-Web(repo)'), ('zambrose(user)', 'Mining-the-Social-Web(repo)'), ('aljosa(user)', 'Mining-the-Social-Web(repo)'), ('dhiemazt(user)', 'Mining-the-Social-Web(repo)'), ('chrisapril(user)', 'Mining-the-Social-Web(repo)'), ('gradetwo(user)', 'Mining-the-Social-Web(repo)'), ('IWhisper(user)', 'Mining-the-Social-Web(repo)'), ('huangliang2211(user)', 'Mining-the-Social-Web(repo)'), ('levigross(user)', 'Mining-the-Social-Web(repo)'), ('wenLiangcan(user)', 'Mining-the-Social-Web(repo)'), ('mirjalil(user)', 'Mining-the-Social-Web(repo)'), ('feedmecookies(user)', 'Mining-the-Social-Web(repo)'), ('BruFFHS(user)', 'Mining-the-Social-Web(repo)'), ('alecnascimento(user)', 'Mining-the-Social-Web(repo)'), ('hoffmann(user)', 'Mining-the-Social-Web(repo)'), ('invinciblejha(user)', 'Mining-the-Social-Web(repo)'), ('cchamma(user)', 'Mining-the-Social-Web(repo)'), ('springga(user)', 'Mining-the-Social-Web(repo)'), ('lao605(user)', 'Mining-the-Social-Web(repo)'), ('norri(user)', 'Mining-the-Social-Web(repo)'), ('oyomei(user)', 'Mining-the-Social-Web(repo)'), ('mistahBen(user)', 'Mining-the-Social-Web(repo)'), ('aarynling(user)', 'Mining-the-Social-Web(repo)'), ('matagus(user)', 'Mining-the-Social-Web(repo)'), ('lizbew(user)', 'Mining-the-Social-Web(repo)'), ('mjankiewicz(user)', 'Mining-the-Social-Web(repo)'), ('evandrix(user)', 'Mining-the-Social-Web(repo)'), ('iccupzerg(user)', 'Mining-the-Social-Web(repo)'), ('joohnnie(user)', 'Mining-the-Social-Web(repo)'), ('opexxx(user)', 'Mining-the-Social-Web(repo)'), ('RolandAdorjani(user)', 'Mining-the-Social-Web(repo)'), ('cdesch(user)', 'Mining-the-Social-Web(repo)'), ('davidrd123(user)', 'Mining-the-Social-Web(repo)'), ('cobblest(user)', 'Mining-the-Social-Web(repo)'), ('mt3(user)', 'Mining-the-Social-Web(repo)'), ('thulio(user)', 'Mining-the-Social-Web(repo)'), ('mgalushka(user)', 'Mining-the-Social-Web(repo)'), ('Linusp(user)', 'Mining-the-Social-Web(repo)'), ('blackerby(user)', 'Mining-the-Social-Web(repo)'), ('srbjwe(user)', 'Mining-the-Social-Web(repo)'), ('kadnan(user)', 'Mining-the-Social-Web(repo)'), ('jgarza(user)', 'Mining-the-Social-Web(repo)'), ('lucassbgomes(user)', 'Mining-the-Social-Web(repo)'), ('Jgustavii(user)', 'Mining-the-Social-Web(repo)'), ('tikums(user)', 'Mining-the-Social-Web(repo)'), ('samesense(user)', 'Mining-the-Social-Web(repo)'), ('riivo(user)', 'Mining-the-Social-Web(repo)'), ('kevinbluer(user)', 'Mining-the-Social-Web(repo)'), ('carlplant(user)', 'Mining-the-Social-Web(repo)'), ('abuiles(user)', 'Mining-the-Social-Web(repo)'), ('dlkahn(user)', 'Mining-the-Social-Web(repo)'), ('skyserpent(user)', 'Mining-the-Social-Web(repo)'), ('annoit(user)', 'Mining-the-Social-Web(repo)'), ('dineshj1(user)', 'Mining-the-Social-Web(repo)'), ('lmmsoft(user)', 'Mining-the-Social-Web(repo)'), ('amygdala(user)', 'Mining-the-Social-Web(repo)'), ('nellaivijay(user)', 'Mining-the-Social-Web(repo)'), ('surecc(user)', 'Mining-the-Social-Web(repo)'), ('jlmvale(user)', 'Mining-the-Social-Web(repo)'), ('macdet(user)', 'Mining-the-Social-Web(repo)'), ('colfire(user)', 'Mining-the-Social-Web(repo)'), ('omg(user)', 'Mining-the-Social-Web(repo)'), ('jbreger(user)', 'Mining-the-Social-Web(repo)'), ('daveturnbull(user)', 'Mining-the-Social-Web(repo)'), ('babumathew(user)', 'Mining-the-Social-Web(repo)'), ('jean(user)', 'Mining-the-Social-Web(repo)'), ('myhomepc(user)', 'Mining-the-Social-Web(repo)'), ('denisarnaud(user)', 'Mining-the-Social-Web(repo)'), ('cbdfocus(user)', 'Mining-the-Social-Web(repo)'), ('lulstrup(user)', 'Mining-the-Social-Web(repo)'), ('erainey(user)', 'Mining-the-Social-Web(repo)'), ('tayf(user)', 'Mining-the-Social-Web(repo)'), ('nokuno(user)', 'Mining-the-Social-Web(repo)'), ('oliverc(user)', 'Mining-the-Social-Web(repo)'), ('mki(user)', 'Mining-the-Social-Web(repo)'), ('ikari-pl(user)', 'Mining-the-Social-Web(repo)'), ('cameronpriest(user)', 'Mining-the-Social-Web(repo)'), ('Basphil(user)', 'Mining-the-Social-Web(repo)'), ('ptwobrussell(user)', 'Mining-the-Social-Web(repo)'), ('chhzhangs(user)', 'Mining-the-Social-Web(repo)'), ('nycterent(user)', 'Mining-the-Social-Web(repo)'), ('xiaxianzhi(user)', 'Mining-the-Social-Web(repo)'), ('paulbersch(user)', 'Mining-the-Social-Web(repo)'), ('seralf(user)', 'Mining-the-Social-Web(repo)'), ('kibernick(user)', 'Mining-the-Social-Web(repo)'), ('jonathanjo(user)', 'Mining-the-Social-Web(repo)'), ('huhupao(user)', 'Mining-the-Social-Web(repo)'), ('jdzeil(user)', 'Mining-the-Social-Web(repo)'), ('rnagle(user)', 'Mining-the-Social-Web(repo)'), ('InFog(user)', 'Mining-the-Social-Web(repo)'), ('theantisofa(user)', 'Mining-the-Social-Web(repo)'), ('ekgren(user)', 'Mining-the-Social-Web(repo)'), ('steverife(user)', 'Mining-the-Social-Web(repo)'), ('rays(user)', 'Mining-the-Social-Web(repo)'), ('xinnan(user)', 'Mining-the-Social-Web(repo)'), ('mkhDev(user)', 'Mining-the-Social-Web(repo)'), ('hisuley(user)', 'Mining-the-Social-Web(repo)'), ('ekanol(user)', 'Mining-the-Social-Web(repo)'), ('slimsymphony(user)', 'Mining-the-Social-Web(repo)'), ('clyfe(user)', 'Mining-the-Social-Web(repo)'), ('Thawab(user)', 'Mining-the-Social-Web(repo)'), ('stonegao(user)', 'Mining-the-Social-Web(repo)'), ('doeslater(user)', 'Mining-the-Social-Web(repo)'), ('diskang(user)', 'Mining-the-Social-Web(repo)'), ('awb99(user)', 'Mining-the-Social-Web(repo)'), ('chlalanne(user)', 'Mining-the-Social-Web(repo)'), ('darkfall(user)', 'Mining-the-Social-Web(repo)'), ('knapsack(user)', 'Mining-the-Social-Web(repo)'), ('lingling2012(user)', 'Mining-the-Social-Web(repo)'), ('sirithink(user)', 'Mining-the-Social-Web(repo)'), ('jcesarblues(user)', 'Mining-the-Social-Web(repo)'), ('timmyshen(user)', 'Mining-the-Social-Web(repo)'), ('georgebellos(user)', 'Mining-the-Social-Web(repo)'), ('blooberr(user)', 'Mining-the-Social-Web(repo)'), ('rayleyva(user)', 'Mining-the-Social-Web(repo)'), ('espeed(user)', 'Mining-the-Social-Web(repo)'), ('ahmdrefat(user)', 'Mining-the-Social-Web(repo)'), ('Jason-Chan(user)', 'Mining-the-Social-Web(repo)'), ('abousha(user)', 'Mining-the-Social-Web(repo)'), ('BleuShip(user)', 'Mining-the-Social-Web(repo)'), ('madsurgeon(user)', 'Mining-the-Social-Web(repo)'), ('dr00(user)', 'Mining-the-Social-Web(repo)'), ('campeterson(user)', 'Mining-the-Social-Web(repo)'), ('likaiguo(user)', 'Mining-the-Social-Web(repo)'), ('gabstehr(user)', 'Mining-the-Social-Web(repo)'), ('donigian(user)', 'Mining-the-Social-Web(repo)'), ('ismaild(user)', 'Mining-the-Social-Web(repo)'), ('zebpalmer(user)', 'Mining-the-Social-Web(repo)'), ('michaeldhealy(user)', 'Mining-the-Social-Web(repo)'), ('clwen(user)', 'Mining-the-Social-Web(repo)'), ('motord(user)', 'Mining-the-Social-Web(repo)'), ('nikolay(user)', 'Mining-the-Social-Web(repo)'), ('katajuta(user)', 'Mining-the-Social-Web(repo)'), ('redswallow(user)', 'Mining-the-Social-Web(repo)'), ('TaulantRamabaja(user)', 'Mining-the-Social-Web(repo)'), ('netjack(user)', 'Mining-the-Social-Web(repo)'), ('seijiro(user)', 'Mining-the-Social-Web(repo)'), ('predmach(user)', 'Mining-the-Social-Web(repo)'), ('supaket(user)', 'Mining-the-Social-Web(repo)'), ('pors(user)', 'Mining-the-Social-Web(repo)'), ('webpig(user)', 'Mining-the-Social-Web(repo)'), ('joshz(user)', 'Mining-the-Social-Web(repo)'), ('sleyzerzon(user)', 'Mining-the-Social-Web(repo)'), ('GuosongChen(user)', 'Mining-the-Social-Web(repo)'), ('booyildirim(user)', 'Mining-the-Social-Web(repo)'), ('masroor(user)', 'Mining-the-Social-Web(repo)'), ('trietptm(user)', 'Mining-the-Social-Web(repo)'), ('rukku(user)', 'Mining-the-Social-Web(repo)'), ('pcdinh(user)', 'Mining-the-Social-Web(repo)'), ('slacy(user)', 'Mining-the-Social-Web(repo)'), ('lemonad(user)', 'Mining-the-Social-Web(repo)'), ('LucianaLu(user)', 'Mining-the-Social-Web(repo)'), ('phildionne(user)', 'Mining-the-Social-Web(repo)'), ('gcornejo(user)', 'Mining-the-Social-Web(repo)'), ('Erict19(user)', 'Mining-the-Social-Web(repo)'), ('harit-sunrun(user)', 'Mining-the-Social-Web(repo)'), ('ansion103(user)', 'Mining-the-Social-Web(repo)'), ('acdha(user)', 'Mining-the-Social-Web(repo)'), ('frfeni(user)', 'Mining-the-Social-Web(repo)'), ('bpeirce(user)', 'Mining-the-Social-Web(repo)'), ('rasper121(user)', 'Mining-the-Social-Web(repo)'), ('Smerity(user)', 'Mining-the-Social-Web(repo)'), ('zhaodylan(user)', 'Mining-the-Social-Web(repo)'), ('Sdmattpotter(user)', 'Mining-the-Social-Web(repo)'), ('samuelleach(user)', 'Mining-the-Social-Web(repo)'), ('Eagles2F(user)', 'Mining-the-Social-Web(repo)'), ('laranea(user)', 'Mining-the-Social-Web(repo)'), ('NikhilKodilkar(user)', 'Mining-the-Social-Web(repo)'), ('csuzhangxc(user)', 'Mining-the-Social-Web(repo)'), ('jwsy(user)', 'Mining-the-Social-Web(repo)'), ('hisakato(user)', 'Mining-the-Social-Web(repo)'), ('omarayad1(user)', 'Mining-the-Social-Web(repo)'), ('chilijung(user)', 'Mining-the-Social-Web(repo)'), ('realoptimal(user)', 'Mining-the-Social-Web(repo)'), ('miukal(user)', 'Mining-the-Social-Web(repo)'), ('B-Rich(user)', 'Mining-the-Social-Web(repo)'), ('jhaus(user)', 'Mining-the-Social-Web(repo)'), ('tswicegood(user)', 'Mining-the-Social-Web(repo)'), ('itsBegun(user)', 'Mining-the-Social-Web(repo)'), ('downrightmike(user)', 'Mining-the-Social-Web(repo)'), ('lincolinnyan(user)', 'Mining-the-Social-Web(repo)'), ('chishaku(user)', 'Mining-the-Social-Web(repo)'), ('AshBT(user)', 'Mining-the-Social-Web(repo)'), ('prb(user)', 'Mining-the-Social-Web(repo)'), ('eyadsibai(user)', 'Mining-the-Social-Web(repo)'), ('folkengine(user)', 'Mining-the-Social-Web(repo)'), ('shyamsingh(user)', 'Mining-the-Social-Web(repo)'), ('nvoa2358(user)', 'Mining-the-Social-Web(repo)'), ('burakerdem(user)', 'Mining-the-Social-Web(repo)'), ('divyakkm(user)', 'Mining-the-Social-Web(repo)'), ('NandoKstroNet(user)', 'Mining-the-Social-Web(repo)'), ('zerojarvis(user)', 'Mining-the-Social-Web(repo)'), ('datomnurdin(user)', 'Mining-the-Social-Web(repo)'), ('majahn(user)', 'Mining-the-Social-Web(repo)'), ('funkygao(user)', 'Mining-the-Social-Web(repo)'), ('Prufrock1(user)', 'Mining-the-Social-Web(repo)'), ('eujinkim(user)', 'Mining-the-Social-Web(repo)'), ('gravitymonkey(user)', 'Mining-the-Social-Web(repo)'), ('kencochrane(user)', 'Mining-the-Social-Web(repo)'), ('EmotionMask(user)', 'Mining-the-Social-Web(repo)'), ('slavik777(user)', 'Mining-the-Social-Web(repo)'), ('billday(user)', 'Mining-the-Social-Web(repo)'), ('PendletonJones(user)', 'Mining-the-Social-Web(repo)'), ('judywawira(user)', 'Mining-the-Social-Web(repo)'), ('elviswf(user)', 'Mining-the-Social-Web(repo)'), ('jrstanley(user)', 'Mining-the-Social-Web(repo)'), ('FranklinChen(user)', 'Mining-the-Social-Web(repo)'), ('LeandroAlmeida(user)', 'Mining-the-Social-Web(repo)'), ('miyaso(user)', 'Mining-the-Social-Web(repo)'), ('seancron(user)', 'Mining-the-Social-Web(repo)'), ('timelyportfolio(user)', 'Mining-the-Social-Web(repo)'), ('iroid(user)', 'Mining-the-Social-Web(repo)'), ('hejibo(user)', 'Mining-the-Social-Web(repo)'), ('liuzz1983(user)', 'Mining-the-Social-Web(repo)'), ('liang456(user)', 'Mining-the-Social-Web(repo)'), ('hackerway(user)', 'Mining-the-Social-Web(repo)'), ('arnim(user)', 'Mining-the-Social-Web(repo)'), ('stephen-cernota(user)', 'Mining-the-Social-Web(repo)'), ('lucianosb(user)', 'Mining-the-Social-Web(repo)'), ('kostyll(user)', 'Mining-the-Social-Web(repo)'), ('vmharrel(user)', 'Mining-the-Social-Web(repo)'), ('hectoregm(user)', 'Mining-the-Social-Web(repo)'), ('TomiToivio(user)', 'Mining-the-Social-Web(repo)'), ('chc170(user)', 'Mining-the-Social-Web(repo)'), ('treper(user)', 'Mining-the-Social-Web(repo)'), ('jquattrocchi(user)', 'Mining-the-Social-Web(repo)'), ('ethanhu(user)', 'Mining-the-Social-Web(repo)'), ('dvy(user)', 'Mining-the-Social-Web(repo)'), ('nordhuang(user)', 'Mining-the-Social-Web(repo)'), ('rgaidot(user)', 'Mining-the-Social-Web(repo)'), ('wuhao4u(user)', 'Mining-the-Social-Web(repo)'), ('aburan28(user)', 'Mining-the-Social-Web(repo)'), ('jgrosche(user)', 'Mining-the-Social-Web(repo)'), ('zhurizhe(user)', 'Mining-the-Social-Web(repo)'), ('yobo000(user)', 'Mining-the-Social-Web(repo)'), ('albertsun(user)', 'Mining-the-Social-Web(repo)'), ('toori67(user)', 'Mining-the-Social-Web(repo)'), ('vuran(user)', 'Mining-the-Social-Web(repo)'), ('philshem(user)', 'Mining-the-Social-Web(repo)'), ('enriquesanchezb(user)', 'Mining-the-Social-Web(repo)'), ('zgw21cn(user)', 'Mining-the-Social-Web(repo)'), ('putorti(user)', 'Mining-the-Social-Web(repo)'), ('th0ma5w(user)', 'Mining-the-Social-Web(repo)'), ('dan0(user)', 'Mining-the-Social-Web(repo)'), ('rohithadassanayake(user)', 'Mining-the-Social-Web(repo)'), ('sofianhw(user)', 'Mining-the-Social-Web(repo)'), ('ch0psticks(user)', 'Mining-the-Social-Web(repo)'), ('tomze(user)', 'Mining-the-Social-Web(repo)'), ('kemaltaskin(user)', 'Mining-the-Social-Web(repo)'), ('mmccaff(user)', 'Mining-the-Social-Web(repo)'), ('sou(user)', 'Mining-the-Social-Web(repo)'), ('joeywen(user)', 'Mining-the-Social-Web(repo)'), ('xxllp(user)', 'Mining-the-Social-Web(repo)'), ('clarecorthell(user)', 'Mining-the-Social-Web(repo)'), ('myditto(user)', 'Mining-the-Social-Web(repo)'), ('albhardy(user)', 'Mining-the-Social-Web(repo)'), ('vinay631(user)', 'Mining-the-Social-Web(repo)'), ('wernerramaekers(user)', 'Mining-the-Social-Web(repo)'), ('program247365(user)', 'Mining-the-Social-Web(repo)'), ('ymirpl(user)', 'Mining-the-Social-Web(repo)'), ('sanpingz(user)', 'Mining-the-Social-Web(repo)'), ('janetyc(user)', 'Mining-the-Social-Web(repo)'), ('haraball(user)', 'Mining-the-Social-Web(repo)'), ('cyrusin(user)', 'Mining-the-Social-Web(repo)'), ('DanielleSucher(user)', 'Mining-the-Social-Web(repo)'), ('taoyu(user)', 'Mining-the-Social-Web(repo)'), ('jagguli(user)', 'Mining-the-Social-Web(repo)'), ('capricasix(user)', 'Mining-the-Social-Web(repo)'), ('maxtheman(user)', 'Mining-the-Social-Web(repo)'), ('Zolomon(user)', 'Mining-the-Social-Web(repo)'), ('skotwani(user)', 'Mining-the-Social-Web(repo)'), ('Alexoner(user)', 'Mining-the-Social-Web(repo)'), ('tankle(user)', 'Mining-the-Social-Web(repo)'), ('kcnickerson(user)', 'Mining-the-Social-Web(repo)'), ('extremecasey(user)', 'Mining-the-Social-Web(repo)'), ('KwangKa(user)', 'Mining-the-Social-Web(repo)'), ('boringmachine(user)', 'Mining-the-Social-Web(repo)'), ('polonia(user)', 'Mining-the-Social-Web(repo)'), ('darron(user)', 'Mining-the-Social-Web(repo)'), ('andrewdanks(user)', 'Mining-the-Social-Web(repo)'), ('max08(user)', 'Mining-the-Social-Web(repo)'), ('yy(user)', 'Mining-the-Social-Web(repo)'), ('yeeyou(user)', 'Mining-the-Social-Web(repo)'), ('aminert(user)', 'Mining-the-Social-Web(repo)'), ('1rick(user)', 'Mining-the-Social-Web(repo)'), ('udooz(user)', 'Mining-the-Social-Web(repo)'), ('alessioalex(user)', 'Mining-the-Social-Web(repo)'), ('rabbit-run(user)', 'Mining-the-Social-Web(repo)'), ('jdmiranda(user)', 'Mining-the-Social-Web(repo)'), ('nbartels(user)', 'Mining-the-Social-Web(repo)'), ('acadopia(user)', 'Mining-the-Social-Web(repo)'), ('w1mvy(user)', 'Mining-the-Social-Web(repo)'), ('bugkiwi(user)', 'Mining-the-Social-Web(repo)'), ('patrickclancy(user)', 'Mining-the-Social-Web(repo)'), ('yogeshc(user)', 'Mining-the-Social-Web(repo)'), ('napo(user)', 'Mining-the-Social-Web(repo)'), ('kelvincobanaj(user)', 'Mining-the-Social-Web(repo)'), ('lovej(user)', 'Mining-the-Social-Web(repo)'), ('IAbuElRuzz(user)', 'Mining-the-Social-Web(repo)'), ('masdude(user)', 'Mining-the-Social-Web(repo)'), ('batasrki(user)', 'Mining-the-Social-Web(repo)'), ('shamiksharma(user)', 'Mining-the-Social-Web(repo)'), ('cheekybastard(user)', 'Mining-the-Social-Web(repo)'), ('jonathan-bower(user)', 'Mining-the-Social-Web(repo)'), ('willi(user)', 'Mining-the-Social-Web(repo)'), ('nisc(user)', 'Mining-the-Social-Web(repo)'), ('dcloud(user)', 'Mining-the-Social-Web(repo)'), ('miyucy(user)', 'Mining-the-Social-Web(repo)'), ('Almad(user)', 'Mining-the-Social-Web(repo)'), ('guoylyy(user)', 'Mining-the-Social-Web(repo)'), ('dotpot(user)', 'Mining-the-Social-Web(repo)'), ('stevencoding(user)', 'Mining-the-Social-Web(repo)'), ('dream4j(user)', 'Mining-the-Social-Web(repo)'), ('chihuanqi(user)', 'Mining-the-Social-Web(repo)'), ('ryanoneill(user)', 'Mining-the-Social-Web(repo)'), ('gdberrio(user)', 'Mining-the-Social-Web(repo)'), ('scorpiohjx(user)', 'Mining-the-Social-Web(repo)'), ('bisko(user)', 'Mining-the-Social-Web(repo)'), ('amckenna(user)', 'Mining-the-Social-Web(repo)'), ('Arthraim(user)', 'Mining-the-Social-Web(repo)'), ('odewahn(user)', 'Mining-the-Social-Web(repo)'), ('jkbrzt(user)', 'Mining-the-Social-Web(repo)'), ('NapalmHorn(user)', 'Mining-the-Social-Web(repo)'), ('chunkplus(user)', 'Mining-the-Social-Web(repo)'), ('stumm(user)', 'Mining-the-Social-Web(repo)'), ('chharish(user)', 'Mining-the-Social-Web(repo)'), ('lsinger(user)', 'Mining-the-Social-Web(repo)'), ('jengdal(user)', 'Mining-the-Social-Web(repo)'), ('ustramooner(user)', 'Mining-the-Social-Web(repo)'), ('kshimo69(user)', 'Mining-the-Social-Web(repo)'), ('alixaxel(user)', 'Mining-the-Social-Web(repo)'), ('sp00(user)', 'Mining-the-Social-Web(repo)'), ('klous(user)', 'Mining-the-Social-Web(repo)'), ('mrmvergeer(user)', 'Mining-the-Social-Web(repo)'), ('lzell(user)', 'Mining-the-Social-Web(repo)'), ('oweidner(user)', 'Mining-the-Social-Web(repo)'), ('BENGMN(user)', 'Mining-the-Social-Web(repo)'), ('singit(user)', 'Mining-the-Social-Web(repo)'), ('mengD(user)', 'Mining-the-Social-Web(repo)'), ('astergu(user)', 'Mining-the-Social-Web(repo)'), ('waterfox0323(user)', 'Mining-the-Social-Web(repo)'), ('qxde01(user)', 'Mining-the-Social-Web(repo)'), ('subrays(user)', 'Mining-the-Social-Web(repo)'), ('bolaft(user)', 'Mining-the-Social-Web(repo)'), ('hardisty(user)', 'Mining-the-Social-Web(repo)'), ('collardb(user)', 'Mining-the-Social-Web(repo)'), ('spartakan(user)', 'Mining-the-Social-Web(repo)'), ('shunwen(user)', 'Mining-the-Social-Web(repo)'), ('lifeforaiur(user)', 'Mining-the-Social-Web(repo)'), ('pygloo(user)', 'Mining-the-Social-Web(repo)'), ('tomconte(user)', 'Mining-the-Social-Web(repo)'), ('eddygreen(user)', 'Mining-the-Social-Web(repo)'), ('sfrench(user)', 'Mining-the-Social-Web(repo)'), ('joliva(user)', 'Mining-the-Social-Web(repo)'), ('c0der007(user)', 'Mining-the-Social-Web(repo)'), ('superfine(user)', 'Mining-the-Social-Web(repo)'), ('adawsonfullsail(user)', 'Mining-the-Social-Web(repo)'), ('ZoomQuiet(user)', 'Mining-the-Social-Web(repo)'), ('bryantly(user)', 'Mining-the-Social-Web(repo)'), ('m4ngust(user)', 'Mining-the-Social-Web(repo)'), ('bububa(user)', 'Mining-the-Social-Web(repo)'), ('mchoimis(user)', 'Mining-the-Social-Web(repo)'), ('mdyang(user)', 'Mining-the-Social-Web(repo)'), ('ticean(user)', 'Mining-the-Social-Web(repo)'), ('hohoqi(user)', 'Mining-the-Social-Web(repo)'), ('davni(user)', 'Mining-the-Social-Web(repo)'), ('daevid(user)', 'Mining-the-Social-Web(repo)'), ('srspear(user)', 'Mining-the-Social-Web(repo)'), ('benjikraft(user)', 'Mining-the-Social-Web(repo)'), ('gcavallanti(user)', 'Mining-the-Social-Web(repo)'), ('Fansion(user)', 'Mining-the-Social-Web(repo)'), ('matiskay(user)', 'Mining-the-Social-Web(repo)'), ('nfx(user)', 'Mining-the-Social-Web(repo)'), ('mootPoint(user)', 'Mining-the-Social-Web(repo)'), ('keokilee(user)', 'Mining-the-Social-Web(repo)'), ('nabeelmukhtar(user)', 'Mining-the-Social-Web(repo)'), ('doolin(user)', 'Mining-the-Social-Web(repo)'), ('beibeiyang(user)', 'Mining-the-Social-Web(repo)'), ('fanggai(user)', 'Mining-the-Social-Web(repo)'), ('anylzer(user)', 'Mining-the-Social-Web(repo)'), ('cb372(user)', 'Mining-the-Social-Web(repo)'), ('gracaninja(user)', 'Mining-the-Social-Web(repo)'), ('cicuz(user)', 'Mining-the-Social-Web(repo)'), ('CaptSolo(user)', 'Mining-the-Social-Web(repo)'), ('tomasaftalion(user)', 'Mining-the-Social-Web(repo)'), ('lyddonb(user)', 'Mining-the-Social-Web(repo)'), ('neko1990(user)', 'Mining-the-Social-Web(repo)'), ('souri(user)', 'Mining-the-Social-Web(repo)'), ('dcj(user)', 'Mining-the-Social-Web(repo)'), ('Bllee(user)', 'Mining-the-Social-Web(repo)'), ('tianhaocto(user)', 'Mining-the-Social-Web(repo)'), ('maysarax(user)', 'Mining-the-Social-Web(repo)'), ('infantiablue(user)', 'Mining-the-Social-Web(repo)'), ('nava45(user)', 'Mining-the-Social-Web(repo)'), ('rohithjyothish(user)', 'Mining-the-Social-Web(repo)'), ('xuqiang(user)', 'Mining-the-Social-Web(repo)'), ('openweb(user)', 'Mining-the-Social-Web(repo)'), ('bjzu(user)', 'Mining-the-Social-Web(repo)'), ('tonez(user)', 'Mining-the-Social-Web(repo)'), ('msbanik(user)', 'Mining-the-Social-Web(repo)'), ('andrzejbe(user)', 'Mining-the-Social-Web(repo)'), ('danielpreotiuc(user)', 'Mining-the-Social-Web(repo)'), ('twidi(user)', 'Mining-the-Social-Web(repo)'), ('shulinway(user)', 'Mining-the-Social-Web(repo)'), ('omarberg(user)', 'Mining-the-Social-Web(repo)'), ('octoberman(user)', 'Mining-the-Social-Web(repo)'), ('adivik2000(user)', 'Mining-the-Social-Web(repo)'), ('nicib83(user)', 'Mining-the-Social-Web(repo)'), ('peicheng(user)', 'Mining-the-Social-Web(repo)'), ('mkdotam(user)', 'Mining-the-Social-Web(repo)'), ('mohamadhussien(user)', 'Mining-the-Social-Web(repo)'), ('sebasmagri(user)', 'Mining-the-Social-Web(repo)'), ('khaing211(user)', 'Mining-the-Social-Web(repo)'), ('ukituki(user)', 'Mining-the-Social-Web(repo)'), ('eephus101(user)', 'Mining-the-Social-Web(repo)'), ('KWMalik(user)', 'Mining-the-Social-Web(repo)'), ('LebronKodan(user)', 'Mining-the-Social-Web(repo)'), ('PittyXu(user)', 'Mining-the-Social-Web(repo)'), ('ibugs961(user)', 'Mining-the-Social-Web(repo)'), ('jlcarvalho(user)', 'Mining-the-Social-Web(repo)'), ('Buttonwood(user)', 'Mining-the-Social-Web(repo)'), ('ysfseu(user)', 'Mining-the-Social-Web(repo)'), ('pedromenezes(user)', 'Mining-the-Social-Web(repo)'), ('jph98(user)', 'Mining-the-Social-Web(repo)'), ('pentesticles(user)', 'Mining-the-Social-Web(repo)'), ('jatinmistry13(user)', 'Mining-the-Social-Web(repo)'), ('rickschmoo(user)', 'Mining-the-Social-Web(repo)'), ('cmlh(user)', 'Mining-the-Social-Web(repo)'), ('laixintao(user)', 'Mining-the-Social-Web(repo)'), ('wangqi(user)', 'Mining-the-Social-Web(repo)'), ('arianpasquali(user)', 'Mining-the-Social-Web(repo)'), ('ozgur(user)', 'Mining-the-Social-Web(repo)'), ('dgleebits(user)', 'Mining-the-Social-Web(repo)'), ('mvid(user)', 'Mining-the-Social-Web(repo)'), ('Doomking(user)', 'Mining-the-Social-Web(repo)'), ('phernandez(user)', 'Mining-the-Social-Web(repo)'), ('ivanfioravanti(user)', 'Mining-the-Social-Web(repo)'), ('zdogma(user)', 'Mining-the-Social-Web(repo)'), ('ackratos(user)', 'Mining-the-Social-Web(repo)'), ('shanlalit(user)', 'Mining-the-Social-Web(repo)'), ('brianly(user)', 'Mining-the-Social-Web(repo)'), ('rsmoz(user)', 'Mining-the-Social-Web(repo)'), ('deepblue-phoenix(user)', 'Mining-the-Social-Web(repo)'), ('disappearedgod(user)', 'Mining-the-Social-Web(repo)'), ('tranminhan(user)', 'Mining-the-Social-Web(repo)'), ('bryantchan(user)', 'Mining-the-Social-Web(repo)'), ('nishant8BITS(user)', 'Mining-the-Social-Web(repo)'), ('gaohailang(user)', 'Mining-the-Social-Web(repo)'), ('andreypaa(user)', 'Mining-the-Social-Web(repo)'), ('menorki(user)', 'Mining-the-Social-Web(repo)'), ('ywdong(user)', 'Mining-the-Social-Web(repo)'), ('klgraham(user)', 'Mining-the-Social-Web(repo)'), ('t3j45(user)', 'Mining-the-Social-Web(repo)'), ('umaar(user)', 'Mining-the-Social-Web(repo)'), ('Tvli(user)', 'Mining-the-Social-Web(repo)'), ('DKMonroe(user)', 'Mining-the-Social-Web(repo)'), ('Brhett(user)', 'Mining-the-Social-Web(repo)'), ('ido(user)', 'Mining-the-Social-Web(repo)'), ('bryantology(user)', 'Mining-the-Social-Web(repo)'), ('phillpafford(user)', 'Mining-the-Social-Web(repo)'), ('CodingBob(user)', 'Mining-the-Social-Web(repo)'), ('bazinga777(user)', 'Mining-the-Social-Web(repo)'), ('dozean(user)', 'Mining-the-Social-Web(repo)'), ('fmaume(user)', 'Mining-the-Social-Web(repo)'), ('temberature(user)', 'Mining-the-Social-Web(repo)'), ('mtchang(user)', 'Mining-the-Social-Web(repo)'), ('benregn(user)', 'Mining-the-Social-Web(repo)'), ('SathishRaju(user)', 'Mining-the-Social-Web(repo)'), ('bzak(user)', 'Mining-the-Social-Web(repo)'), ('bigsml(user)', 'Mining-the-Social-Web(repo)'), ('ykhroki(user)', 'Mining-the-Social-Web(repo)'), ('krmaxwell(user)', 'Mining-the-Social-Web(repo)'), ('chengdujin(user)', 'Mining-the-Social-Web(repo)'), ('bowenli37(user)', 'Mining-the-Social-Web(repo)'), ('arthur-e(user)', 'Mining-the-Social-Web(repo)'), ('5im5im(user)', 'Mining-the-Social-Web(repo)'), ('gavelez(user)', 'Mining-the-Social-Web(repo)'), ('zonovo(user)', 'Mining-the-Social-Web(repo)'), ('brianjolly(user)', 'Mining-the-Social-Web(repo)'), ('futurespective(user)', 'Mining-the-Social-Web(repo)'), ('gui11aume(user)', 'Mining-the-Social-Web(repo)'), ('frac(user)', 'Mining-the-Social-Web(repo)'), ('jineshpaloor(user)', 'Mining-the-Social-Web(repo)'), ('Kilian(user)', 'Mining-the-Social-Web(repo)'), ('yicaoyimu(user)', 'Mining-the-Social-Web(repo)'), ('enulex(user)', 'Mining-the-Social-Web(repo)'), ('fakber(user)', 'Mining-the-Social-Web(repo)'), ('Geek4IT(user)', 'Mining-the-Social-Web(repo)'), ('azuranop(user)', 'Mining-the-Social-Web(repo)'), ('zhuwenger(user)', 'Mining-the-Social-Web(repo)'), ('caseysoftware(user)', 'Mining-the-Social-Web(repo)'), ('michaelwills(user)', 'Mining-the-Social-Web(repo)'), ('Tuxified(user)', 'Mining-the-Social-Web(repo)'), ('paxan(user)', 'Mining-the-Social-Web(repo)'), ('briatte(user)', 'Mining-the-Social-Web(repo)'), ('swix(user)', 'Mining-the-Social-Web(repo)'), ('jmorenoamor(user)', 'Mining-the-Social-Web(repo)'), ('sffafa(user)', 'Mining-the-Social-Web(repo)'), ('bnvk(user)', 'Mining-the-Social-Web(repo)'), ('nine9s(user)', 'Mining-the-Social-Web(repo)'), ('michalbcz(user)', 'Mining-the-Social-Web(repo)'), ('manesiotise(user)', 'Mining-the-Social-Web(repo)'), ('Zouyiran(user)', 'Mining-the-Social-Web(repo)'), ('rgtjf(user)', 'Mining-the-Social-Web(repo)'), ('callard(user)', 'Mining-the-Social-Web(repo)'), ('firesofmay(user)', 'Mining-the-Social-Web(repo)'), ('KRostyslav(user)', 'Mining-the-Social-Web(repo)'), ('elimisteve(user)', 'Mining-the-Social-Web(repo)'), ('tzuryby(user)', 'Mining-the-Social-Web(repo)'), ('daemianmack(user)', 'Mining-the-Social-Web(repo)'), ('xiaodiu2010(user)', 'Mining-the-Social-Web(repo)'), ('haruna-nishiwaki(user)', 'Mining-the-Social-Web(repo)'), ('rportugal(user)', 'Mining-the-Social-Web(repo)'), ('zavg(user)', 'Mining-the-Social-Web(repo)'), ('furukama(user)', 'Mining-the-Social-Web(repo)'), ('zihaolucky(user)', 'Mining-the-Social-Web(repo)'), ('nelliemckesson(user)', 'Mining-the-Social-Web(repo)'), ('mfalcon(user)', 'Mining-the-Social-Web(repo)'), ('torsday(user)', 'Mining-the-Social-Web(repo)'), ('website0207(user)', 'Mining-the-Social-Web(repo)'), ('ricardoalmeida(user)', 'Mining-the-Social-Web(repo)'), ('rduong(user)', 'Mining-the-Social-Web(repo)'), ('cegme(user)', 'Mining-the-Social-Web(repo)'), ('gr33ndata(user)', 'Mining-the-Social-Web(repo)'), ('pengyutang125(user)', 'Mining-the-Social-Web(repo)'), ('shenli(user)', 'Mining-the-Social-Web(repo)'), ('waleking(user)', 'Mining-the-Social-Web(repo)'), ('skibblenybbles(user)', 'Mining-the-Social-Web(repo)'), ('johnymontana(user)', 'Mining-the-Social-Web(repo)'), ('bjpcjp(user)', 'Mining-the-Social-Web(repo)'), ('deathcape(user)', 'Mining-the-Social-Web(repo)'), ('bearzx(user)', 'Mining-the-Social-Web(repo)'), ('apitts(user)', 'Mining-the-Social-Web(repo)'), ('MorLong(user)', 'Mining-the-Social-Web(repo)'), ('Faddel(user)', 'Mining-the-Social-Web(repo)'), ('swinton(user)', 'Mining-the-Social-Web(repo)'), ('zeutrap(user)', 'Mining-the-Social-Web(repo)'), ('fasouto(user)', 'Mining-the-Social-Web(repo)'), ('alfredcai(user)', 'Mining-the-Social-Web(repo)'), ('omoto(user)', 'Mining-the-Social-Web(repo)'), ('chaoyangqq(user)', 'Mining-the-Social-Web(repo)'), ('mrblack555(user)', 'Mining-the-Social-Web(repo)'), ('srikanth-npcompete(user)', 'Mining-the-Social-Web(repo)'), ('ChrisMcKee(user)', 'Mining-the-Social-Web(repo)'), ('jannson(user)', 'Mining-the-Social-Web(repo)'), ('blackte(user)', 'Mining-the-Social-Web(repo)'), ('hanula(user)', 'Mining-the-Social-Web(repo)'), ('tigerjh(user)', 'Mining-the-Social-Web(repo)'), ('ljdawn(user)', 'Mining-the-Social-Web(repo)'), ('ardalahmet(user)', 'Mining-the-Social-Web(repo)'), ('akondylis(user)', 'Mining-the-Social-Web(repo)'), ('natorro(user)', 'Mining-the-Social-Web(repo)'), ('jackylee(user)', 'Mining-the-Social-Web(repo)'), ('lyl7225(user)', 'Mining-the-Social-Web(repo)'), ('blu-elephant(user)', 'Mining-the-Social-Web(repo)'), ('yujinw(user)', 'Mining-the-Social-Web(repo)'), ('edtechdev(user)', 'Mining-the-Social-Web(repo)'), ('vanderwal(user)', 'Mining-the-Social-Web(repo)'), ('daimajia(user)', 'Mining-the-Social-Web(repo)'), ('amitkumar01(user)', 'Mining-the-Social-Web(repo)'), ('chuckchen(user)', 'Mining-the-Social-Web(repo)'), ('jasonyaowu(user)', 'Mining-the-Social-Web(repo)'), ('retrobabel(user)', 'Mining-the-Social-Web(repo)'), ('dougapd(user)', 'Mining-the-Social-Web(repo)'), ('UniIsland(user)', 'Mining-the-Social-Web(repo)'), ('solutionsmith(user)', 'Mining-the-Social-Web(repo)'), ('yasu00000(user)', 'Mining-the-Social-Web(repo)'), ('Amandianeze(user)', 'Mining-the-Social-Web(repo)'), ('japerk(user)', 'Mining-the-Social-Web(repo)'), ('shaobin0604(user)', 'Mining-the-Social-Web(repo)'), ('miclovich(user)', 'Mining-the-Social-Web(repo)'), ('MorphZhou(user)', 'Mining-the-Social-Web(repo)'), ('amanahuja(user)', 'Mining-the-Social-Web(repo)'), ('bgriffen(user)', 'Mining-the-Social-Web(repo)'), ('infinitum8(user)', 'Mining-the-Social-Web(repo)'), ('kkovacs(user)', 'Mining-the-Social-Web(repo)'), ('chu052(user)', 'Mining-the-Social-Web(repo)'), ('stefaneyr(user)', 'Mining-the-Social-Web(repo)'), ('allengaller(user)', 'Mining-the-Social-Web(repo)'), ('valdergallo(user)', 'Mining-the-Social-Web(repo)'), ('anentropic(user)', 'Mining-the-Social-Web(repo)'), ('ypxu(user)', 'Mining-the-Social-Web(repo)'), ('lvspais(user)', 'Mining-the-Social-Web(repo)'), ('butterwick(user)', 'Mining-the-Social-Web(repo)'), ('SocialQ(user)', 'Mining-the-Social-Web(repo)'), ('pparo(user)', 'Mining-the-Social-Web(repo)'), ('flyabroad(user)', 'Mining-the-Social-Web(repo)'), ('coodoing(user)', 'Mining-the-Social-Web(repo)'), ('dylanthomas(user)', 'Mining-the-Social-Web(repo)'), ('gabrielluong(user)', 'Mining-the-Social-Web(repo)'), ('sunan(user)', 'Mining-the-Social-Web(repo)'), ('ahill1(user)', 'Mining-the-Social-Web(repo)'), ('FGRibreau(user)', 'Mining-the-Social-Web(repo)'), ('momotas210(user)', 'Mining-the-Social-Web(repo)'), ('jerryyeezus(user)', 'Mining-the-Social-Web(repo)'), ('fcojperez(user)', 'Mining-the-Social-Web(repo)'), ('terry2012(user)', 'Mining-the-Social-Web(repo)'), ('yangdahui(user)', 'Mining-the-Social-Web(repo)'), ('stepmr(user)', 'Mining-the-Social-Web(repo)'), ('dextercasey(user)', 'Mining-the-Social-Web(repo)'), ('jeffmaxton(user)', 'Mining-the-Social-Web(repo)'), ('ironico(user)', 'Mining-the-Social-Web(repo)'), ('dayu321(user)', 'Mining-the-Social-Web(repo)'), ('zmughal(user)', 'Mining-the-Social-Web(repo)'), ('pensz(user)', 'Mining-the-Social-Web(repo)'), ('alessandroleite(user)', 'Mining-the-Social-Web(repo)'), ('Sundae(user)', 'Mining-the-Social-Web(repo)'), ('nimblemachine(user)', 'Mining-the-Social-Web(repo)'), ('csuper(user)', 'Mining-the-Social-Web(repo)'), ('mlaprise(user)', 'Mining-the-Social-Web(repo)'), ('jakobzhao(user)', 'Mining-the-Social-Web(repo)'), ('jcprandini(user)', 'Mining-the-Social-Web(repo)'), ('studiomaestro(user)', 'Mining-the-Social-Web(repo)'), ('azarbakht(user)', 'Mining-the-Social-Web(repo)'), ('vshulyak(user)', 'Mining-the-Social-Web(repo)'), ('arnab-chakrabarti(user)', 'Mining-the-Social-Web(repo)'), ('katychuang(user)', 'Mining-the-Social-Web(repo)'), ('alexdiao(user)', 'Mining-the-Social-Web(repo)'), ('shockley(user)', 'Mining-the-Social-Web(repo)'), ('onozka(user)', 'Mining-the-Social-Web(repo)'), ('icyphoenix(user)', 'Mining-the-Social-Web(repo)'), ('twneale(user)', 'Mining-the-Social-Web(repo)')]\n",
      "[]\n"
     ]
    }
   ],
   "source": [
    "# Poke around in the current graph to get a better feel for how NetworkX works\n",
    "\n",
    "print(nx.info(g))\n",
    "print (g.node['Mining-the-Social-Web(repo)'])\n",
    "print (g.node['ptwobrussell(user)'])\n",
    "print (g['ptwobrussell(user)']['Mining-the-Social-Web(repo)'])\n",
    "# The next line would throw a KeyError since no such edge exists:\n",
    "# print g['Mining-the-Social-Web(repo)']['ptwobrussell(user)']\n",
    "print (g['ptwobrussell(user)'])\n",
    "print (g['Mining-the-Social-Web(repo)'])\n",
    "print (g.in_edges(['ptwobrussell(user)']))\n",
    "print (g.out_edges(['ptwobrussell(user)']))\n",
    "print(g.in_edges(['Mining-the-Social-Web(repo)']))\n",
    "print(g.out_edges(['Mining-the-Social-Web(repo)']))"
   ]
  },
  {
   "cell_type": "markdown",
   "metadata": {},
   "source": [
    "## Example 7. Calculating degree, betweenness, and closeness centrality measures on the Krackhardt kite graph"
   ]
  },
  {
   "cell_type": "code",
   "execution_count": 30,
   "metadata": {
    "collapsed": false
   },
   "outputs": [
    {
     "data": {
      "text/html": [
       "<img src=\"files/resources/ch07-github/kite-graph.png\" width=\"400px\">"
      ],
      "text/plain": [
       "<IPython.core.display.HTML object>"
      ]
     },
     "metadata": {},
     "output_type": "display_data"
    },
    {
     "name": "stdout",
     "output_type": "stream",
     "text": [
      "Degree Centrality\n",
      "[(3, 0.6666666666666666), (5, 0.5555555555555556), (6, 0.5555555555555556), (0, 0.4444444444444444), (1, 0.4444444444444444), (2, 0.3333333333333333), (4, 0.3333333333333333), (7, 0.3333333333333333), (8, 0.2222222222222222), (9, 0.1111111111111111)]\n",
      "Betweenness Centrality\n",
      "[(7, 0.38888888888888884), (5, 0.23148148148148148), (6, 0.23148148148148148), (8, 0.2222222222222222), (3, 0.10185185185185183), (0, 0.023148148148148143), (1, 0.023148148148148143), (2, 0.0), (4, 0.0), (9, 0.0)]\n",
      "Closeness Centrality\n",
      "[(5, 0.6428571428571429), (6, 0.6428571428571429), (3, 0.6), (7, 0.6), (0, 0.5294117647058824), (1, 0.5294117647058824), (2, 0.5), (4, 0.5), (8, 0.42857142857142855), (9, 0.3103448275862069)]\n"
     ]
    }
   ],
   "source": [
    "from operator import itemgetter\n",
    "from IPython.display import HTML\n",
    "from IPython.core.display import display\n",
    "\n",
    "display(HTML('<img src=\"files/resources/ch07-github/kite-graph.png\" width=\"400px\">'))\n",
    "\n",
    "# The classic Krackhardt kite graph\n",
    "kkg = nx.generators.small.krackhardt_kite_graph()\n",
    "\n",
    "print(\"Degree Centrality\")\n",
    "print(sorted(nx.degree_centrality(kkg).items(), \n",
    "             key=itemgetter(1), reverse=True))\n",
    "\n",
    "print(\"Betweenness Centrality\")\n",
    "print(sorted(nx.betweenness_centrality(kkg).items(), \n",
    "             key=itemgetter(1), reverse=True))\n",
    "\n",
    "print(\"Closeness Centrality\")\n",
    "print(sorted(nx.closeness_centrality(kkg).items(), \n",
    "             key=itemgetter(1), reverse=True))"
   ]
  },
  {
   "cell_type": "markdown",
   "metadata": {},
   "source": [
    "## Example 8. Adding additional interest edges to the graph through the inclusion of \"follows\" edges"
   ]
  },
  {
   "cell_type": "code",
   "execution_count": null,
   "metadata": {
    "collapsed": false
   },
   "outputs": [
    {
     "name": "stdout",
     "output_type": "stream",
     "text": [
      "Processed 1  stargazers. Num nodes/edges in graph 1058 / 1057\n",
      "Processed 2  stargazers. Num nodes/edges in graph 1058 / 1060\n",
      "Processed 3  stargazers. Num nodes/edges in graph 1058 / 1062\n",
      "Processed 4  stargazers. Num nodes/edges in graph 1058 / 1067\n",
      "Processed 5  stargazers. Num nodes/edges in graph 1058 / 1067\n",
      "Processed 6  stargazers. Num nodes/edges in graph 1058 / 1068\n",
      "Processed 7  stargazers. Num nodes/edges in graph 1058 / 1068\n",
      "Processed 8  stargazers. Num nodes/edges in graph 1058 / 1071\n",
      "Processed 9  stargazers. Num nodes/edges in graph 1058 / 1080\n",
      "Processed 10  stargazers. Num nodes/edges in graph 1058 / 1081\n",
      "Processed 11  stargazers. Num nodes/edges in graph 1058 / 1083\n",
      "Processed 12  stargazers. Num nodes/edges in graph 1058 / 1086\n",
      "Processed 13  stargazers. Num nodes/edges in graph 1058 / 1089\n",
      "Processed 14  stargazers. Num nodes/edges in graph 1058 / 1090\n",
      "Processed 15  stargazers. Num nodes/edges in graph 1058 / 1091\n",
      "Processed 16  stargazers. Num nodes/edges in graph 1058 / 1095\n",
      "Processed 17  stargazers. Num nodes/edges in graph 1058 / 1096\n",
      "Processed 18  stargazers. Num nodes/edges in graph 1058 / 1098\n",
      "Processed 19  stargazers. Num nodes/edges in graph 1058 / 1101\n",
      "Processed 20  stargazers. Num nodes/edges in graph 1058 / 1101\n",
      "Processed 21  stargazers. Num nodes/edges in graph 1058 / 1102\n",
      "Processed 22  stargazers. Num nodes/edges in graph 1058 / 1102\n",
      "Processed 23  stargazers. Num nodes/edges in graph 1058 / 1103\n",
      "Processed 24  stargazers. Num nodes/edges in graph 1058 / 1105\n",
      "Processed 25  stargazers. Num nodes/edges in graph 1058 / 1105\n",
      "Processed 26  stargazers. Num nodes/edges in graph 1058 / 1106\n",
      "Processed 27  stargazers. Num nodes/edges in graph 1058 / 1108\n",
      "Processed 28  stargazers. Num nodes/edges in graph 1058 / 1110\n",
      "Processed 29  stargazers. Num nodes/edges in graph 1058 / 1110\n",
      "Processed 30  stargazers. Num nodes/edges in graph 1058 / 1111\n",
      "Processed 31  stargazers. Num nodes/edges in graph 1058 / 1111\n",
      "Processed 32  stargazers. Num nodes/edges in graph 1058 / 1111\n",
      "Processed 33  stargazers. Num nodes/edges in graph 1058 / 1112\n",
      "Processed 34  stargazers. Num nodes/edges in graph 1058 / 1113\n",
      "Processed 35  stargazers. Num nodes/edges in graph 1058 / 1130\n",
      "Processed 36  stargazers. Num nodes/edges in graph 1058 / 1130\n",
      "Processed 37  stargazers. Num nodes/edges in graph 1058 / 1130\n",
      "Processed 38  stargazers. Num nodes/edges in graph 1058 / 1130\n",
      "Processed 39  stargazers. Num nodes/edges in graph 1058 / 1133\n",
      "Processed 40  stargazers. Num nodes/edges in graph 1058 / 1135\n",
      "Processed 41  stargazers. Num nodes/edges in graph 1058 / 1135\n",
      "Processed 42  stargazers. Num nodes/edges in graph 1058 / 1137\n",
      "Processed 43  stargazers. Num nodes/edges in graph 1058 / 1139\n",
      "Processed 44  stargazers. Num nodes/edges in graph 1058 / 1140\n",
      "Processed 45  stargazers. Num nodes/edges in graph 1058 / 1141\n",
      "Processed 46  stargazers. Num nodes/edges in graph 1058 / 1144\n",
      "Processed 47  stargazers. Num nodes/edges in graph 1058 / 1146\n",
      "Processed 48  stargazers. Num nodes/edges in graph 1058 / 1147\n",
      "Processed 49  stargazers. Num nodes/edges in graph 1058 / 1148\n",
      "Processed 50  stargazers. Num nodes/edges in graph 1058 / 1148\n",
      "Processed 51  stargazers. Num nodes/edges in graph 1058 / 1148\n",
      "Processed 52  stargazers. Num nodes/edges in graph 1058 / 1149\n",
      "Processed 53  stargazers. Num nodes/edges in graph 1058 / 1150\n",
      "Processed 54  stargazers. Num nodes/edges in graph 1058 / 1152\n",
      "Processed 55  stargazers. Num nodes/edges in graph 1058 / 1153\n",
      "Processed 56  stargazers. Num nodes/edges in graph 1058 / 1154\n",
      "Processed"
     ]
    }
   ],
   "source": [
    "# Add (social) edges from the stargazers' followers. This can take a while \n",
    "# because of all of the potential API calls to GitHub. The approximate number\n",
    "# of requests for followers for each iteration of this loop can be calculated as\n",
    "# math.ceil(sg.get_followers() / 100.0) per the API returning up to 100 items\n",
    "# at a time.\n",
    "\n",
    "import sys\n",
    "\n",
    "for i, sg in enumerate(stargazers):\n",
    "    \n",
    "    # Add \"follows\" edges between stargazers in the graph if any relationships exist\n",
    "    try:\n",
    "        for follower in sg.get_followers():\n",
    "            if follower.login + '(user)' in g:\n",
    "                g.add_edge(follower.login + '(user)', sg.login + '(user)', \n",
    "                           type='follows')\n",
    "    except Exception: #ssl.SSLError\n",
    "        print >> sys.stderr, \"Encountered an error fetching followers for\", \\\n",
    "                             sg.login, \"Skipping.\"\n",
    "        print >> sys.stderr, e\n",
    "\n",
    "    print(\"Processed\", i+1, \" stargazers. Num nodes/edges in graph\", \\\n",
    "          g.number_of_nodes(), \"/\", g.number_of_edges())\n",
    "    #print(\"Rate limit remaining\", client.rate_limiting_resettime())"
   ]
  },
  {
   "cell_type": "markdown",
   "metadata": {},
   "source": [
    "## Example 9. Exploring the updated graph's \"follows\" edges"
   ]
  },
  {
   "cell_type": "code",
   "execution_count": 11,
   "metadata": {
    "collapsed": false
   },
   "outputs": [
    {
     "name": "stdout",
     "output_type": "stream",
     "text": [
      "Name: \n",
      "Type: DiGraph\n",
      "Number of nodes: 1058\n",
      "Number of edges: 1057\n",
      "Average in degree:   0.9991\n",
      "Average out degree:   0.9991\n",
      "0\n",
      "0\n",
      "[('Mining-the-Social-Web(repo)', 1057), ('smokymountains(user)', 1), ('iwanbk(user)', 1), ('darron(user)', 1), ('gr33ndata(user)', 1), ('mvid(user)', 1), ('cdesch(user)', 1), ('zavg(user)', 1), ('kevinchiu(user)', 1), ('laranea(user)', 1)]\n",
      "0\n",
      "0\n",
      "1\n",
      "0\n",
      "Number of popular users 0\n",
      "Top 10 popular users: []\n"
     ]
    }
   ],
   "source": [
    "from operator import itemgetter\n",
    "from collections import Counter\n",
    "\n",
    "# Let's see how many social edges we added since last time.\n",
    "print(nx.info(g))\n",
    "\n",
    "# The number of \"follows\" edges is the difference\n",
    "print(len([e for e in g.edges_iter(data=True) if e[2]['type'] == 'follows']))\n",
    "\n",
    "# The repository owner is possibly one of the more popular users in this graph.\n",
    "print (len([e \n",
    "           for e in g.edges_iter(data=True) \n",
    "               if e[2]['type'] == 'follows' and e[1] == 'ptwobrussell(user)']))\n",
    "\n",
    "# Let's examine the number of adjacent edges to each node\n",
    "print (sorted([n for n in g.degree_iter()], key=itemgetter(1), reverse=True)[:10])\n",
    "\n",
    "# Consider the ratio of incoming and outgoing edges for a couple of users with \n",
    "# high node degrees...\n",
    "\n",
    "# A user who follows many but is not followed back by many.\n",
    "\n",
    "print (len(g.out_edges('hcilab(user)')))\n",
    "print (len(g.in_edges('hcilab(user)')))\n",
    "\n",
    "# A user who is followed by many but does not follow back.\n",
    "\n",
    "print (len(g.out_edges('ptwobrussell(user)')))\n",
    "print (len(g.in_edges('ptwobrussell(user)')))\n",
    "\n",
    "c = Counter([e[1] for e in g.edges_iter(data=True) if e[2]['type'] == 'follows'])\n",
    "popular_users = [ (u, f) for (u, f) in c.most_common() if f > 1 ]\n",
    "print (\"Number of popular users\", len(popular_users))\n",
    "print (\"Top 10 popular users:\", popular_users[:10])"
   ]
  },
  {
   "cell_type": "markdown",
   "metadata": {},
   "source": [
    "## Example 10. Snapshotting (pickling) the graph's state to disk"
   ]
  },
  {
   "cell_type": "code",
   "execution_count": 12,
   "metadata": {
    "collapsed": false
   },
   "outputs": [
    {
     "ename": "FileNotFoundError",
     "evalue": "[Errno 2] No such file or directory: 'resources/ch07-github/data/github.gpickle.1'",
     "output_type": "error",
     "traceback": [
      "\u001b[0;31m---------------------------------------------------------------------------\u001b[0m",
      "\u001b[0;31mFileNotFoundError\u001b[0m                         Traceback (most recent call last)",
      "\u001b[0;32m<ipython-input-12-e7c2d31e38fc>\u001b[0m in \u001b[0;36m<module>\u001b[0;34m()\u001b[0m\n\u001b[1;32m      1\u001b[0m \u001b[0;31m# Save your work by serializing out (pickling) the graph\u001b[0m\u001b[0;34m\u001b[0m\u001b[0;34m\u001b[0m\u001b[0m\n\u001b[0;32m----> 2\u001b[0;31m \u001b[0mnx\u001b[0m\u001b[0;34m.\u001b[0m\u001b[0mwrite_gpickle\u001b[0m\u001b[0;34m(\u001b[0m\u001b[0mg\u001b[0m\u001b[0;34m,\u001b[0m \u001b[0;34m\"resources/ch07-github/data/github.gpickle.1\"\u001b[0m\u001b[0;34m)\u001b[0m\u001b[0;34m\u001b[0m\u001b[0m\n\u001b[0m\u001b[1;32m      3\u001b[0m \u001b[0;34m\u001b[0m\u001b[0m\n\u001b[1;32m      4\u001b[0m \u001b[0;31m# How to restore the graph...\u001b[0m\u001b[0;34m\u001b[0m\u001b[0;34m\u001b[0m\u001b[0m\n\u001b[1;32m      5\u001b[0m \u001b[0;31m# import networkx as nx\u001b[0m\u001b[0;34m\u001b[0m\u001b[0;34m\u001b[0m\u001b[0m\n",
      "\u001b[0;32m<decorator-gen-294>\u001b[0m in \u001b[0;36mwrite_gpickle\u001b[0;34m(G, path, protocol)\u001b[0m\n",
      "\u001b[0;32m/usr/local/lib/python3.5/site-packages/networkx/utils/decorators.py\u001b[0m in \u001b[0;36m_open_file\u001b[0;34m(func, *args, **kwargs)\u001b[0m\n\u001b[1;32m    196\u001b[0m         \u001b[0;32mif\u001b[0m \u001b[0mis_string_like\u001b[0m\u001b[0;34m(\u001b[0m\u001b[0mpath\u001b[0m\u001b[0;34m)\u001b[0m\u001b[0;34m:\u001b[0m\u001b[0;34m\u001b[0m\u001b[0m\n\u001b[1;32m    197\u001b[0m             \u001b[0mext\u001b[0m \u001b[0;34m=\u001b[0m \u001b[0msplitext\u001b[0m\u001b[0;34m(\u001b[0m\u001b[0mpath\u001b[0m\u001b[0;34m)\u001b[0m\u001b[0;34m[\u001b[0m\u001b[0;36m1\u001b[0m\u001b[0;34m]\u001b[0m\u001b[0;34m\u001b[0m\u001b[0m\n\u001b[0;32m--> 198\u001b[0;31m             \u001b[0mfobj\u001b[0m \u001b[0;34m=\u001b[0m \u001b[0m_dispatch_dict\u001b[0m\u001b[0;34m[\u001b[0m\u001b[0mext\u001b[0m\u001b[0;34m]\u001b[0m\u001b[0;34m(\u001b[0m\u001b[0mpath\u001b[0m\u001b[0;34m,\u001b[0m \u001b[0mmode\u001b[0m\u001b[0;34m=\u001b[0m\u001b[0mmode\u001b[0m\u001b[0;34m)\u001b[0m\u001b[0;34m\u001b[0m\u001b[0m\n\u001b[0m\u001b[1;32m    199\u001b[0m             \u001b[0mclose_fobj\u001b[0m \u001b[0;34m=\u001b[0m \u001b[0;32mTrue\u001b[0m\u001b[0;34m\u001b[0m\u001b[0m\n\u001b[1;32m    200\u001b[0m         \u001b[0;32melif\u001b[0m \u001b[0mhasattr\u001b[0m\u001b[0;34m(\u001b[0m\u001b[0mpath\u001b[0m\u001b[0;34m,\u001b[0m \u001b[0;34m'read'\u001b[0m\u001b[0;34m)\u001b[0m\u001b[0;34m:\u001b[0m\u001b[0;34m\u001b[0m\u001b[0m\n",
      "\u001b[0;31mFileNotFoundError\u001b[0m: [Errno 2] No such file or directory: 'resources/ch07-github/data/github.gpickle.1'"
     ]
    }
   ],
   "source": [
    "# Save your work by serializing out (pickling) the graph\n",
    "nx.write_gpickle(g, \"resources/ch07-github/data/github.gpickle.1\")\n",
    "\n",
    "# How to restore the graph...\n",
    "# import networkx as nx\n",
    "# g = nx.read_gpickle(\"resources/ch07-github/data/github.gpickle.1\")"
   ]
  },
  {
   "cell_type": "markdown",
   "metadata": {},
   "source": [
    "## Example 11. Applying centrality measures to the interest graph"
   ]
  },
  {
   "cell_type": "code",
   "execution_count": 14,
   "metadata": {
    "collapsed": false
   },
   "outputs": [
    {
     "name": "stdout",
     "output_type": "stream",
     "text": [
      "Degree Centrality\n",
      "[('smokymountains(user)', 0.0), ('lincolinnyan(user)', 0.0), ('darron(user)', 0.0), ('gr33ndata(user)', 0.0), ('mvid(user)', 0.0), ('cdesch(user)', 0.0), ('zavg(user)', 0.0), ('kevinchiu(user)', 0.0), ('laranea(user)', 0.0), ('srinatar(user)', 0.0)]\n",
      "Betweenness Centrality\n",
      "[('smokymountains(user)', 0.0), ('lincolinnyan(user)', 0.0), ('darron(user)', 0.0), ('gr33ndata(user)', 0.0), ('mvid(user)', 0.0), ('cdesch(user)', 0.0), ('zavg(user)', 0.0), ('kevinchiu(user)', 0.0), ('laranea(user)', 0.0), ('srinatar(user)', 0.0)]\n",
      "Closeness Centrality\n",
      "[('smokymountains(user)', 0.0), ('lincolinnyan(user)', 0.0), ('darron(user)', 0.0), ('gr33ndata(user)', 0.0), ('mvid(user)', 0.0), ('cdesch(user)', 0.0), ('zavg(user)', 0.0), ('kevinchiu(user)', 0.0), ('laranea(user)', 0.0), ('srinatar(user)', 0.0)]\n"
     ]
    }
   ],
   "source": [
    "from operator import itemgetter\n",
    "\n",
    "# Create a copy of the graph so that we can iteratively mutate the copy\n",
    "# as needed for experimentation\n",
    "\n",
    "h = g.copy()\n",
    "\n",
    "# Remove the seed of the interest graph, which is a supernode, in order\n",
    "# to get a better idea of the network dynamics\n",
    "\n",
    "h.remove_node('Mining-the-Social-Web(repo)')\n",
    "\n",
    "# XXX: Remove any other nodes that appear to be supernodes.\n",
    "# Filter any other nodes that you can by threshold\n",
    "# criteria or heuristics from inspection.\n",
    "\n",
    "# Display the centrality measures for the top 10 nodes\n",
    "\n",
    "\n",
    "dc = sorted(nx.degree_centrality(h).items(), \n",
    "            key=itemgetter(1), reverse=True)\n",
    "\n",
    "print(\"Degree Centrality\")\n",
    "print(dc[:10])\n",
    "\n",
    "bc = sorted(nx.betweenness_centrality(h).items(), \n",
    "            key=itemgetter(1), reverse=True)\n",
    "\n",
    "print(\"Betweenness Centrality\")\n",
    "print(bc[:10])\n",
    "\n",
    "print(\"Closeness Centrality\")\n",
    "cc = sorted(nx.closeness_centrality(h).items(), \n",
    "            key=itemgetter(1), reverse=True)\n",
    "print(cc[:10])"
   ]
  },
  {
   "cell_type": "markdown",
   "metadata": {},
   "source": [
    "## Example 12. Adding starred repositories to the graph"
   ]
  },
  {
   "cell_type": "code",
   "execution_count": 17,
   "metadata": {
    "collapsed": false
   },
   "outputs": [
    {
     "name": "stdout",
     "output_type": "stream",
     "text": [
      "rdempsey\n",
      "Processed 1 stargazers' starred repos\n",
      "Num nodes/edges in graph 1378 / 1377\n",
      "Rate limit (4973, 5000)\n",
      "frac\n",
      "Processed 2 stargazers' starred repos\n",
      "Num nodes/edges in graph 1492 / 1496\n",
      "Rate limit (4971, 5000)\n",
      "prb\n",
      "Processed 3 stargazers' starred repos\n",
      "Num nodes/edges in graph 1672 / 1680\n",
      "Rate limit (4969, 5000)\n",
      "mcroydon\n",
      "Processed 4 stargazers' starred repos\n",
      "Num nodes/edges in graph 2164 / 2178\n",
      "Rate limit (4964, 5000)\n",
      "batasrki\n",
      "Processed 5 stargazers' starred repos\n",
      "Num nodes/edges in graph 2210 / 2229\n",
      "Rate limit (4963, 5000)\n",
      "twleung\n"
     ]
    },
    {
     "ename": "KeyboardInterrupt",
     "evalue": "",
     "output_type": "error",
     "traceback": [
      "\u001b[0;31m---------------------------------------------------------------------------\u001b[0m",
      "\u001b[0;31mKeyboardInterrupt\u001b[0m                         Traceback (most recent call last)",
      "\u001b[0;32m<ipython-input-17-faa2223926c3>\u001b[0m in \u001b[0;36m<module>\u001b[0;34m()\u001b[0m\n\u001b[1;32m      7\u001b[0m     \u001b[0mprint\u001b[0m\u001b[0;34m(\u001b[0m\u001b[0msg\u001b[0m\u001b[0;34m.\u001b[0m\u001b[0mlogin\u001b[0m\u001b[0;34m)\u001b[0m\u001b[0;34m\u001b[0m\u001b[0m\n\u001b[1;32m      8\u001b[0m     \u001b[0;32mtry\u001b[0m\u001b[0;34m:\u001b[0m\u001b[0;34m\u001b[0m\u001b[0m\n\u001b[0;32m----> 9\u001b[0;31m         \u001b[0;32mfor\u001b[0m \u001b[0mstarred\u001b[0m \u001b[0;32min\u001b[0m \u001b[0msg\u001b[0m\u001b[0;34m.\u001b[0m\u001b[0mget_starred\u001b[0m\u001b[0;34m(\u001b[0m\u001b[0;34m)\u001b[0m\u001b[0;34m[\u001b[0m\u001b[0;34m:\u001b[0m\u001b[0mMAX_REPOS\u001b[0m\u001b[0;34m]\u001b[0m\u001b[0;34m:\u001b[0m \u001b[0;31m# Slice to avoid supernodes\u001b[0m\u001b[0;34m\u001b[0m\u001b[0m\n\u001b[0m\u001b[1;32m     10\u001b[0m             \u001b[0mg\u001b[0m\u001b[0;34m.\u001b[0m\u001b[0madd_node\u001b[0m\u001b[0;34m(\u001b[0m\u001b[0mstarred\u001b[0m\u001b[0;34m.\u001b[0m\u001b[0mname\u001b[0m \u001b[0;34m+\u001b[0m \u001b[0;34m'(repo)'\u001b[0m\u001b[0;34m,\u001b[0m \u001b[0mtype\u001b[0m\u001b[0;34m=\u001b[0m\u001b[0;34m'repo'\u001b[0m\u001b[0;34m,\u001b[0m \u001b[0mlang\u001b[0m\u001b[0;34m=\u001b[0m\u001b[0mstarred\u001b[0m\u001b[0;34m.\u001b[0m\u001b[0mlanguage\u001b[0m\u001b[0;34m,\u001b[0m                        \u001b[0mowner\u001b[0m\u001b[0;34m=\u001b[0m\u001b[0mstarred\u001b[0m\u001b[0;34m.\u001b[0m\u001b[0mowner\u001b[0m\u001b[0;34m.\u001b[0m\u001b[0mlogin\u001b[0m\u001b[0;34m)\u001b[0m\u001b[0;34m\u001b[0m\u001b[0m\n\u001b[1;32m     11\u001b[0m             \u001b[0mg\u001b[0m\u001b[0;34m.\u001b[0m\u001b[0madd_edge\u001b[0m\u001b[0;34m(\u001b[0m\u001b[0msg\u001b[0m\u001b[0;34m.\u001b[0m\u001b[0mlogin\u001b[0m \u001b[0;34m+\u001b[0m \u001b[0;34m'(user)'\u001b[0m\u001b[0;34m,\u001b[0m \u001b[0mstarred\u001b[0m\u001b[0;34m.\u001b[0m\u001b[0mname\u001b[0m \u001b[0;34m+\u001b[0m \u001b[0;34m'(repo)'\u001b[0m\u001b[0;34m,\u001b[0m \u001b[0mtype\u001b[0m\u001b[0;34m=\u001b[0m\u001b[0;34m'gazes'\u001b[0m\u001b[0;34m)\u001b[0m\u001b[0;34m\u001b[0m\u001b[0m\n",
      "\u001b[0;32m/usr/local/lib/python3.5/site-packages/github/PaginatedList.py\u001b[0m in \u001b[0;36m__iter__\u001b[0;34m(self)\u001b[0m\n\u001b[1;32m     73\u001b[0m             \u001b[0;32mwhile\u001b[0m \u001b[0;32mnot\u001b[0m \u001b[0mself\u001b[0m\u001b[0;34m.\u001b[0m\u001b[0m__finished\u001b[0m\u001b[0;34m(\u001b[0m\u001b[0mindex\u001b[0m\u001b[0;34m)\u001b[0m\u001b[0;34m:\u001b[0m\u001b[0;34m\u001b[0m\u001b[0m\n\u001b[1;32m     74\u001b[0m                 \u001b[0;32mif\u001b[0m \u001b[0mself\u001b[0m\u001b[0;34m.\u001b[0m\u001b[0m__list\u001b[0m\u001b[0;34m.\u001b[0m\u001b[0m_isBiggerThan\u001b[0m\u001b[0;34m(\u001b[0m\u001b[0mindex\u001b[0m\u001b[0;34m)\u001b[0m\u001b[0;34m:\u001b[0m\u001b[0;34m\u001b[0m\u001b[0m\n\u001b[0;32m---> 75\u001b[0;31m                     \u001b[0;32myield\u001b[0m \u001b[0mself\u001b[0m\u001b[0;34m.\u001b[0m\u001b[0m__list\u001b[0m\u001b[0;34m[\u001b[0m\u001b[0mindex\u001b[0m\u001b[0;34m]\u001b[0m\u001b[0;34m\u001b[0m\u001b[0m\n\u001b[0m\u001b[1;32m     76\u001b[0m                     \u001b[0mindex\u001b[0m \u001b[0;34m+=\u001b[0m \u001b[0mself\u001b[0m\u001b[0;34m.\u001b[0m\u001b[0m__step\u001b[0m\u001b[0;34m\u001b[0m\u001b[0m\n\u001b[1;32m     77\u001b[0m                 \u001b[0;32melse\u001b[0m\u001b[0;34m:\u001b[0m\u001b[0;34m\u001b[0m\u001b[0m\n",
      "\u001b[0;32m/usr/local/lib/python3.5/site-packages/github/PaginatedList.py\u001b[0m in \u001b[0;36m__getitem__\u001b[0;34m(self, index)\u001b[0m\n\u001b[1;32m     37\u001b[0m         \u001b[0;32massert\u001b[0m \u001b[0misinstance\u001b[0m\u001b[0;34m(\u001b[0m\u001b[0mindex\u001b[0m\u001b[0;34m,\u001b[0m \u001b[0;34m(\u001b[0m\u001b[0mint\u001b[0m\u001b[0;34m,\u001b[0m \u001b[0mslice\u001b[0m\u001b[0;34m)\u001b[0m\u001b[0;34m)\u001b[0m\u001b[0;34m\u001b[0m\u001b[0m\n\u001b[1;32m     38\u001b[0m         \u001b[0;32mif\u001b[0m \u001b[0misinstance\u001b[0m\u001b[0;34m(\u001b[0m\u001b[0mindex\u001b[0m\u001b[0;34m,\u001b[0m \u001b[0mint\u001b[0m\u001b[0;34m)\u001b[0m\u001b[0;34m:\u001b[0m\u001b[0;34m\u001b[0m\u001b[0m\n\u001b[0;32m---> 39\u001b[0;31m             \u001b[0mself\u001b[0m\u001b[0;34m.\u001b[0m\u001b[0m__fetchToIndex\u001b[0m\u001b[0;34m(\u001b[0m\u001b[0mindex\u001b[0m\u001b[0;34m)\u001b[0m\u001b[0;34m\u001b[0m\u001b[0m\n\u001b[0m\u001b[1;32m     40\u001b[0m             \u001b[0;32mreturn\u001b[0m \u001b[0mself\u001b[0m\u001b[0;34m.\u001b[0m\u001b[0m__elements\u001b[0m\u001b[0;34m[\u001b[0m\u001b[0mindex\u001b[0m\u001b[0;34m]\u001b[0m\u001b[0;34m\u001b[0m\u001b[0m\n\u001b[1;32m     41\u001b[0m         \u001b[0;32melse\u001b[0m\u001b[0;34m:\u001b[0m\u001b[0;34m\u001b[0m\u001b[0m\n",
      "\u001b[0;32m/usr/local/lib/python3.5/site-packages/github/PaginatedList.py\u001b[0m in \u001b[0;36m__fetchToIndex\u001b[0;34m(self, index)\u001b[0m\n\u001b[1;32m     55\u001b[0m     \u001b[0;32mdef\u001b[0m \u001b[0m__fetchToIndex\u001b[0m\u001b[0;34m(\u001b[0m\u001b[0mself\u001b[0m\u001b[0;34m,\u001b[0m \u001b[0mindex\u001b[0m\u001b[0;34m)\u001b[0m\u001b[0;34m:\u001b[0m\u001b[0;34m\u001b[0m\u001b[0m\n\u001b[1;32m     56\u001b[0m         \u001b[0;32mwhile\u001b[0m \u001b[0mlen\u001b[0m\u001b[0;34m(\u001b[0m\u001b[0mself\u001b[0m\u001b[0;34m.\u001b[0m\u001b[0m__elements\u001b[0m\u001b[0;34m)\u001b[0m \u001b[0;34m<=\u001b[0m \u001b[0mindex\u001b[0m \u001b[0;32mand\u001b[0m \u001b[0mself\u001b[0m\u001b[0;34m.\u001b[0m\u001b[0m_couldGrow\u001b[0m\u001b[0;34m(\u001b[0m\u001b[0;34m)\u001b[0m\u001b[0;34m:\u001b[0m\u001b[0;34m\u001b[0m\u001b[0m\n\u001b[0;32m---> 57\u001b[0;31m             \u001b[0mself\u001b[0m\u001b[0;34m.\u001b[0m\u001b[0m_grow\u001b[0m\u001b[0;34m(\u001b[0m\u001b[0;34m)\u001b[0m\u001b[0;34m\u001b[0m\u001b[0m\n\u001b[0m\u001b[1;32m     58\u001b[0m \u001b[0;34m\u001b[0m\u001b[0m\n\u001b[1;32m     59\u001b[0m     \u001b[0;32mdef\u001b[0m \u001b[0m_grow\u001b[0m\u001b[0;34m(\u001b[0m\u001b[0mself\u001b[0m\u001b[0;34m)\u001b[0m\u001b[0;34m:\u001b[0m\u001b[0;34m\u001b[0m\u001b[0m\n",
      "\u001b[0;32m/usr/local/lib/python3.5/site-packages/github/PaginatedList.py\u001b[0m in \u001b[0;36m_grow\u001b[0;34m(self)\u001b[0m\n\u001b[1;32m     58\u001b[0m \u001b[0;34m\u001b[0m\u001b[0m\n\u001b[1;32m     59\u001b[0m     \u001b[0;32mdef\u001b[0m \u001b[0m_grow\u001b[0m\u001b[0;34m(\u001b[0m\u001b[0mself\u001b[0m\u001b[0;34m)\u001b[0m\u001b[0;34m:\u001b[0m\u001b[0;34m\u001b[0m\u001b[0m\n\u001b[0;32m---> 60\u001b[0;31m         \u001b[0mnewElements\u001b[0m \u001b[0;34m=\u001b[0m \u001b[0mself\u001b[0m\u001b[0;34m.\u001b[0m\u001b[0m_fetchNextPage\u001b[0m\u001b[0;34m(\u001b[0m\u001b[0;34m)\u001b[0m\u001b[0;34m\u001b[0m\u001b[0m\n\u001b[0m\u001b[1;32m     61\u001b[0m         \u001b[0mself\u001b[0m\u001b[0;34m.\u001b[0m\u001b[0m__elements\u001b[0m \u001b[0;34m+=\u001b[0m \u001b[0mnewElements\u001b[0m\u001b[0;34m\u001b[0m\u001b[0m\n\u001b[1;32m     62\u001b[0m         \u001b[0;32mreturn\u001b[0m \u001b[0mnewElements\u001b[0m\u001b[0;34m\u001b[0m\u001b[0m\n",
      "\u001b[0;32m/usr/local/lib/python3.5/site-packages/github/PaginatedList.py\u001b[0m in \u001b[0;36m_fetchNextPage\u001b[0;34m(self)\u001b[0m\n\u001b[1;32m    159\u001b[0m             \u001b[0mself\u001b[0m\u001b[0;34m.\u001b[0m\u001b[0m__nextUrl\u001b[0m\u001b[0;34m,\u001b[0m\u001b[0;34m\u001b[0m\u001b[0m\n\u001b[1;32m    160\u001b[0m             \u001b[0mparameters\u001b[0m\u001b[0;34m=\u001b[0m\u001b[0mself\u001b[0m\u001b[0;34m.\u001b[0m\u001b[0m__nextParams\u001b[0m\u001b[0;34m,\u001b[0m\u001b[0;34m\u001b[0m\u001b[0m\n\u001b[0;32m--> 161\u001b[0;31m             \u001b[0mheaders\u001b[0m\u001b[0;34m=\u001b[0m\u001b[0mself\u001b[0m\u001b[0;34m.\u001b[0m\u001b[0m__headers\u001b[0m\u001b[0;34m\u001b[0m\u001b[0m\n\u001b[0m\u001b[1;32m    162\u001b[0m         )\n\u001b[1;32m    163\u001b[0m         \u001b[0mdata\u001b[0m \u001b[0;34m=\u001b[0m \u001b[0mdata\u001b[0m \u001b[0;32mif\u001b[0m \u001b[0mdata\u001b[0m \u001b[0;32melse\u001b[0m \u001b[0;34m[\u001b[0m\u001b[0;34m]\u001b[0m\u001b[0;34m\u001b[0m\u001b[0m\n",
      "\u001b[0;32m/usr/local/lib/python3.5/site-packages/github/Requester.py\u001b[0m in \u001b[0;36mrequestJsonAndCheck\u001b[0;34m(self, verb, url, parameters, headers, input, cnx)\u001b[0m\n\u001b[1;32m    169\u001b[0m \u001b[0;34m\u001b[0m\u001b[0m\n\u001b[1;32m    170\u001b[0m     \u001b[0;32mdef\u001b[0m \u001b[0mrequestJsonAndCheck\u001b[0m\u001b[0;34m(\u001b[0m\u001b[0mself\u001b[0m\u001b[0;34m,\u001b[0m \u001b[0mverb\u001b[0m\u001b[0;34m,\u001b[0m \u001b[0murl\u001b[0m\u001b[0;34m,\u001b[0m \u001b[0mparameters\u001b[0m\u001b[0;34m=\u001b[0m\u001b[0;32mNone\u001b[0m\u001b[0;34m,\u001b[0m \u001b[0mheaders\u001b[0m\u001b[0;34m=\u001b[0m\u001b[0;32mNone\u001b[0m\u001b[0;34m,\u001b[0m \u001b[0minput\u001b[0m\u001b[0;34m=\u001b[0m\u001b[0;32mNone\u001b[0m\u001b[0;34m,\u001b[0m \u001b[0mcnx\u001b[0m\u001b[0;34m=\u001b[0m\u001b[0;32mNone\u001b[0m\u001b[0;34m)\u001b[0m\u001b[0;34m:\u001b[0m\u001b[0;34m\u001b[0m\u001b[0m\n\u001b[0;32m--> 171\u001b[0;31m         \u001b[0;32mreturn\u001b[0m \u001b[0mself\u001b[0m\u001b[0;34m.\u001b[0m\u001b[0m__check\u001b[0m\u001b[0;34m(\u001b[0m\u001b[0;34m*\u001b[0m\u001b[0mself\u001b[0m\u001b[0;34m.\u001b[0m\u001b[0mrequestJson\u001b[0m\u001b[0;34m(\u001b[0m\u001b[0mverb\u001b[0m\u001b[0;34m,\u001b[0m \u001b[0murl\u001b[0m\u001b[0;34m,\u001b[0m \u001b[0mparameters\u001b[0m\u001b[0;34m,\u001b[0m \u001b[0mheaders\u001b[0m\u001b[0;34m,\u001b[0m \u001b[0minput\u001b[0m\u001b[0;34m,\u001b[0m \u001b[0mcnx\u001b[0m\u001b[0;34m)\u001b[0m\u001b[0;34m)\u001b[0m\u001b[0;34m\u001b[0m\u001b[0m\n\u001b[0m\u001b[1;32m    172\u001b[0m \u001b[0;34m\u001b[0m\u001b[0m\n\u001b[1;32m    173\u001b[0m     \u001b[0;32mdef\u001b[0m \u001b[0mrequestMultipartAndCheck\u001b[0m\u001b[0;34m(\u001b[0m\u001b[0mself\u001b[0m\u001b[0;34m,\u001b[0m \u001b[0mverb\u001b[0m\u001b[0;34m,\u001b[0m \u001b[0murl\u001b[0m\u001b[0;34m,\u001b[0m \u001b[0mparameters\u001b[0m\u001b[0;34m=\u001b[0m\u001b[0;32mNone\u001b[0m\u001b[0;34m,\u001b[0m \u001b[0mheaders\u001b[0m\u001b[0;34m=\u001b[0m\u001b[0;32mNone\u001b[0m\u001b[0;34m,\u001b[0m \u001b[0minput\u001b[0m\u001b[0;34m=\u001b[0m\u001b[0;32mNone\u001b[0m\u001b[0;34m)\u001b[0m\u001b[0;34m:\u001b[0m\u001b[0;34m\u001b[0m\u001b[0m\n",
      "\u001b[0;32m/usr/local/lib/python3.5/site-packages/github/Requester.py\u001b[0m in \u001b[0;36mrequestJson\u001b[0;34m(self, verb, url, parameters, headers, input, cnx)\u001b[0m\n\u001b[1;32m    210\u001b[0m             \u001b[0;32mreturn\u001b[0m \u001b[0;34m\"application/json\"\u001b[0m\u001b[0;34m,\u001b[0m \u001b[0mjson\u001b[0m\u001b[0;34m.\u001b[0m\u001b[0mdumps\u001b[0m\u001b[0;34m(\u001b[0m\u001b[0minput\u001b[0m\u001b[0;34m)\u001b[0m\u001b[0;34m\u001b[0m\u001b[0m\n\u001b[1;32m    211\u001b[0m \u001b[0;34m\u001b[0m\u001b[0m\n\u001b[0;32m--> 212\u001b[0;31m         \u001b[0;32mreturn\u001b[0m \u001b[0mself\u001b[0m\u001b[0;34m.\u001b[0m\u001b[0m__requestEncode\u001b[0m\u001b[0;34m(\u001b[0m\u001b[0mcnx\u001b[0m\u001b[0;34m,\u001b[0m \u001b[0mverb\u001b[0m\u001b[0;34m,\u001b[0m \u001b[0murl\u001b[0m\u001b[0;34m,\u001b[0m \u001b[0mparameters\u001b[0m\u001b[0;34m,\u001b[0m \u001b[0mheaders\u001b[0m\u001b[0;34m,\u001b[0m \u001b[0minput\u001b[0m\u001b[0;34m,\u001b[0m \u001b[0mencode\u001b[0m\u001b[0;34m)\u001b[0m\u001b[0;34m\u001b[0m\u001b[0m\n\u001b[0m\u001b[1;32m    213\u001b[0m \u001b[0;34m\u001b[0m\u001b[0m\n\u001b[1;32m    214\u001b[0m     \u001b[0;32mdef\u001b[0m \u001b[0mrequestMultipart\u001b[0m\u001b[0;34m(\u001b[0m\u001b[0mself\u001b[0m\u001b[0;34m,\u001b[0m \u001b[0mverb\u001b[0m\u001b[0;34m,\u001b[0m \u001b[0murl\u001b[0m\u001b[0;34m,\u001b[0m \u001b[0mparameters\u001b[0m\u001b[0;34m=\u001b[0m\u001b[0;32mNone\u001b[0m\u001b[0;34m,\u001b[0m \u001b[0mheaders\u001b[0m\u001b[0;34m=\u001b[0m\u001b[0;32mNone\u001b[0m\u001b[0;34m,\u001b[0m \u001b[0minput\u001b[0m\u001b[0;34m=\u001b[0m\u001b[0;32mNone\u001b[0m\u001b[0;34m)\u001b[0m\u001b[0;34m:\u001b[0m\u001b[0;34m\u001b[0m\u001b[0m\n",
      "\u001b[0;32m/usr/local/lib/python3.5/site-packages/github/Requester.py\u001b[0m in \u001b[0;36m__requestEncode\u001b[0;34m(self, cnx, verb, url, parameters, requestHeaders, input, encode)\u001b[0m\n\u001b[1;32m    249\u001b[0m         \u001b[0mself\u001b[0m\u001b[0;34m.\u001b[0m\u001b[0mNEW_DEBUG_FRAME\u001b[0m\u001b[0;34m(\u001b[0m\u001b[0mrequestHeaders\u001b[0m\u001b[0;34m)\u001b[0m\u001b[0;34m\u001b[0m\u001b[0m\n\u001b[1;32m    250\u001b[0m \u001b[0;34m\u001b[0m\u001b[0m\n\u001b[0;32m--> 251\u001b[0;31m         \u001b[0mstatus\u001b[0m\u001b[0;34m,\u001b[0m \u001b[0mresponseHeaders\u001b[0m\u001b[0;34m,\u001b[0m \u001b[0moutput\u001b[0m \u001b[0;34m=\u001b[0m \u001b[0mself\u001b[0m\u001b[0;34m.\u001b[0m\u001b[0m__requestRaw\u001b[0m\u001b[0;34m(\u001b[0m\u001b[0mcnx\u001b[0m\u001b[0;34m,\u001b[0m \u001b[0mverb\u001b[0m\u001b[0;34m,\u001b[0m \u001b[0murl\u001b[0m\u001b[0;34m,\u001b[0m \u001b[0mrequestHeaders\u001b[0m\u001b[0;34m,\u001b[0m \u001b[0mencoded_input\u001b[0m\u001b[0;34m)\u001b[0m\u001b[0;34m\u001b[0m\u001b[0m\n\u001b[0m\u001b[1;32m    252\u001b[0m \u001b[0;34m\u001b[0m\u001b[0m\n\u001b[1;32m    253\u001b[0m         \u001b[0;32mif\u001b[0m \u001b[0;34m\"x-ratelimit-remaining\"\u001b[0m \u001b[0;32min\u001b[0m \u001b[0mresponseHeaders\u001b[0m \u001b[0;32mand\u001b[0m \u001b[0;34m\"x-ratelimit-limit\"\u001b[0m \u001b[0;32min\u001b[0m \u001b[0mresponseHeaders\u001b[0m\u001b[0;34m:\u001b[0m\u001b[0;34m\u001b[0m\u001b[0m\n",
      "\u001b[0;32m/usr/local/lib/python3.5/site-packages/github/Requester.py\u001b[0m in \u001b[0;36m__requestRaw\u001b[0;34m(self, cnx, verb, url, requestHeaders, input)\u001b[0m\n\u001b[1;32m    275\u001b[0m             \u001b[0mrequestHeaders\u001b[0m\u001b[0;34m\u001b[0m\u001b[0m\n\u001b[1;32m    276\u001b[0m         )\n\u001b[0;32m--> 277\u001b[0;31m         \u001b[0mresponse\u001b[0m \u001b[0;34m=\u001b[0m \u001b[0mcnx\u001b[0m\u001b[0;34m.\u001b[0m\u001b[0mgetresponse\u001b[0m\u001b[0;34m(\u001b[0m\u001b[0;34m)\u001b[0m\u001b[0;34m\u001b[0m\u001b[0m\n\u001b[0m\u001b[1;32m    278\u001b[0m \u001b[0;34m\u001b[0m\u001b[0m\n\u001b[1;32m    279\u001b[0m         \u001b[0mstatus\u001b[0m \u001b[0;34m=\u001b[0m \u001b[0mresponse\u001b[0m\u001b[0;34m.\u001b[0m\u001b[0mstatus\u001b[0m\u001b[0;34m\u001b[0m\u001b[0m\n",
      "\u001b[0;32m/usr/local/Cellar/python3/3.5.1/Frameworks/Python.framework/Versions/3.5/lib/python3.5/http/client.py\u001b[0m in \u001b[0;36mgetresponse\u001b[0;34m(self)\u001b[0m\n\u001b[1;32m   1172\u001b[0m         \u001b[0;32mtry\u001b[0m\u001b[0;34m:\u001b[0m\u001b[0;34m\u001b[0m\u001b[0m\n\u001b[1;32m   1173\u001b[0m             \u001b[0;32mtry\u001b[0m\u001b[0;34m:\u001b[0m\u001b[0;34m\u001b[0m\u001b[0m\n\u001b[0;32m-> 1174\u001b[0;31m                 \u001b[0mresponse\u001b[0m\u001b[0;34m.\u001b[0m\u001b[0mbegin\u001b[0m\u001b[0;34m(\u001b[0m\u001b[0;34m)\u001b[0m\u001b[0;34m\u001b[0m\u001b[0m\n\u001b[0m\u001b[1;32m   1175\u001b[0m             \u001b[0;32mexcept\u001b[0m \u001b[0mConnectionError\u001b[0m\u001b[0;34m:\u001b[0m\u001b[0;34m\u001b[0m\u001b[0m\n\u001b[1;32m   1176\u001b[0m                 \u001b[0mself\u001b[0m\u001b[0;34m.\u001b[0m\u001b[0mclose\u001b[0m\u001b[0;34m(\u001b[0m\u001b[0;34m)\u001b[0m\u001b[0;34m\u001b[0m\u001b[0m\n",
      "\u001b[0;32m/usr/local/Cellar/python3/3.5.1/Frameworks/Python.framework/Versions/3.5/lib/python3.5/http/client.py\u001b[0m in \u001b[0;36mbegin\u001b[0;34m(self)\u001b[0m\n\u001b[1;32m    280\u001b[0m         \u001b[0;31m# read until we get a non-100 response\u001b[0m\u001b[0;34m\u001b[0m\u001b[0;34m\u001b[0m\u001b[0m\n\u001b[1;32m    281\u001b[0m         \u001b[0;32mwhile\u001b[0m \u001b[0;32mTrue\u001b[0m\u001b[0;34m:\u001b[0m\u001b[0;34m\u001b[0m\u001b[0m\n\u001b[0;32m--> 282\u001b[0;31m             \u001b[0mversion\u001b[0m\u001b[0;34m,\u001b[0m \u001b[0mstatus\u001b[0m\u001b[0;34m,\u001b[0m \u001b[0mreason\u001b[0m \u001b[0;34m=\u001b[0m \u001b[0mself\u001b[0m\u001b[0;34m.\u001b[0m\u001b[0m_read_status\u001b[0m\u001b[0;34m(\u001b[0m\u001b[0;34m)\u001b[0m\u001b[0;34m\u001b[0m\u001b[0m\n\u001b[0m\u001b[1;32m    283\u001b[0m             \u001b[0;32mif\u001b[0m \u001b[0mstatus\u001b[0m \u001b[0;34m!=\u001b[0m \u001b[0mCONTINUE\u001b[0m\u001b[0;34m:\u001b[0m\u001b[0;34m\u001b[0m\u001b[0m\n\u001b[1;32m    284\u001b[0m                 \u001b[0;32mbreak\u001b[0m\u001b[0;34m\u001b[0m\u001b[0m\n",
      "\u001b[0;32m/usr/local/Cellar/python3/3.5.1/Frameworks/Python.framework/Versions/3.5/lib/python3.5/http/client.py\u001b[0m in \u001b[0;36m_read_status\u001b[0;34m(self)\u001b[0m\n\u001b[1;32m    241\u001b[0m \u001b[0;34m\u001b[0m\u001b[0m\n\u001b[1;32m    242\u001b[0m     \u001b[0;32mdef\u001b[0m \u001b[0m_read_status\u001b[0m\u001b[0;34m(\u001b[0m\u001b[0mself\u001b[0m\u001b[0;34m)\u001b[0m\u001b[0;34m:\u001b[0m\u001b[0;34m\u001b[0m\u001b[0m\n\u001b[0;32m--> 243\u001b[0;31m         \u001b[0mline\u001b[0m \u001b[0;34m=\u001b[0m \u001b[0mstr\u001b[0m\u001b[0;34m(\u001b[0m\u001b[0mself\u001b[0m\u001b[0;34m.\u001b[0m\u001b[0mfp\u001b[0m\u001b[0;34m.\u001b[0m\u001b[0mreadline\u001b[0m\u001b[0;34m(\u001b[0m\u001b[0m_MAXLINE\u001b[0m \u001b[0;34m+\u001b[0m \u001b[0;36m1\u001b[0m\u001b[0;34m)\u001b[0m\u001b[0;34m,\u001b[0m \u001b[0;34m\"iso-8859-1\"\u001b[0m\u001b[0;34m)\u001b[0m\u001b[0;34m\u001b[0m\u001b[0m\n\u001b[0m\u001b[1;32m    244\u001b[0m         \u001b[0;32mif\u001b[0m \u001b[0mlen\u001b[0m\u001b[0;34m(\u001b[0m\u001b[0mline\u001b[0m\u001b[0;34m)\u001b[0m \u001b[0;34m>\u001b[0m \u001b[0m_MAXLINE\u001b[0m\u001b[0;34m:\u001b[0m\u001b[0;34m\u001b[0m\u001b[0m\n\u001b[1;32m    245\u001b[0m             \u001b[0;32mraise\u001b[0m \u001b[0mLineTooLong\u001b[0m\u001b[0;34m(\u001b[0m\u001b[0;34m\"status line\"\u001b[0m\u001b[0;34m)\u001b[0m\u001b[0;34m\u001b[0m\u001b[0m\n",
      "\u001b[0;32m/usr/local/Cellar/python3/3.5.1/Frameworks/Python.framework/Versions/3.5/lib/python3.5/socket.py\u001b[0m in \u001b[0;36mreadinto\u001b[0;34m(self, b)\u001b[0m\n\u001b[1;32m    573\u001b[0m         \u001b[0;32mwhile\u001b[0m \u001b[0;32mTrue\u001b[0m\u001b[0;34m:\u001b[0m\u001b[0;34m\u001b[0m\u001b[0m\n\u001b[1;32m    574\u001b[0m             \u001b[0;32mtry\u001b[0m\u001b[0;34m:\u001b[0m\u001b[0;34m\u001b[0m\u001b[0m\n\u001b[0;32m--> 575\u001b[0;31m                 \u001b[0;32mreturn\u001b[0m \u001b[0mself\u001b[0m\u001b[0;34m.\u001b[0m\u001b[0m_sock\u001b[0m\u001b[0;34m.\u001b[0m\u001b[0mrecv_into\u001b[0m\u001b[0;34m(\u001b[0m\u001b[0mb\u001b[0m\u001b[0;34m)\u001b[0m\u001b[0;34m\u001b[0m\u001b[0m\n\u001b[0m\u001b[1;32m    576\u001b[0m             \u001b[0;32mexcept\u001b[0m \u001b[0mtimeout\u001b[0m\u001b[0;34m:\u001b[0m\u001b[0;34m\u001b[0m\u001b[0m\n\u001b[1;32m    577\u001b[0m                 \u001b[0mself\u001b[0m\u001b[0;34m.\u001b[0m\u001b[0m_timeout_occurred\u001b[0m \u001b[0;34m=\u001b[0m \u001b[0;32mTrue\u001b[0m\u001b[0;34m\u001b[0m\u001b[0m\n",
      "\u001b[0;32m/usr/local/Cellar/python3/3.5.1/Frameworks/Python.framework/Versions/3.5/lib/python3.5/ssl.py\u001b[0m in \u001b[0;36mrecv_into\u001b[0;34m(self, buffer, nbytes, flags)\u001b[0m\n\u001b[1;32m    922\u001b[0m                   \u001b[0;34m\"non-zero flags not allowed in calls to recv_into() on %s\"\u001b[0m \u001b[0;34m%\u001b[0m\u001b[0;34m\u001b[0m\u001b[0m\n\u001b[1;32m    923\u001b[0m                   self.__class__)\n\u001b[0;32m--> 924\u001b[0;31m             \u001b[0;32mreturn\u001b[0m \u001b[0mself\u001b[0m\u001b[0;34m.\u001b[0m\u001b[0mread\u001b[0m\u001b[0;34m(\u001b[0m\u001b[0mnbytes\u001b[0m\u001b[0;34m,\u001b[0m \u001b[0mbuffer\u001b[0m\u001b[0;34m)\u001b[0m\u001b[0;34m\u001b[0m\u001b[0m\n\u001b[0m\u001b[1;32m    925\u001b[0m         \u001b[0;32melse\u001b[0m\u001b[0;34m:\u001b[0m\u001b[0;34m\u001b[0m\u001b[0m\n\u001b[1;32m    926\u001b[0m             \u001b[0;32mreturn\u001b[0m \u001b[0msocket\u001b[0m\u001b[0;34m.\u001b[0m\u001b[0mrecv_into\u001b[0m\u001b[0;34m(\u001b[0m\u001b[0mself\u001b[0m\u001b[0;34m,\u001b[0m \u001b[0mbuffer\u001b[0m\u001b[0;34m,\u001b[0m \u001b[0mnbytes\u001b[0m\u001b[0;34m,\u001b[0m \u001b[0mflags\u001b[0m\u001b[0;34m)\u001b[0m\u001b[0;34m\u001b[0m\u001b[0m\n",
      "\u001b[0;32m/usr/local/Cellar/python3/3.5.1/Frameworks/Python.framework/Versions/3.5/lib/python3.5/ssl.py\u001b[0m in \u001b[0;36mread\u001b[0;34m(self, len, buffer)\u001b[0m\n\u001b[1;32m    784\u001b[0m             \u001b[0;32mraise\u001b[0m \u001b[0mValueError\u001b[0m\u001b[0;34m(\u001b[0m\u001b[0;34m\"Read on closed or unwrapped SSL socket.\"\u001b[0m\u001b[0;34m)\u001b[0m\u001b[0;34m\u001b[0m\u001b[0m\n\u001b[1;32m    785\u001b[0m         \u001b[0;32mtry\u001b[0m\u001b[0;34m:\u001b[0m\u001b[0;34m\u001b[0m\u001b[0m\n\u001b[0;32m--> 786\u001b[0;31m             \u001b[0;32mreturn\u001b[0m \u001b[0mself\u001b[0m\u001b[0;34m.\u001b[0m\u001b[0m_sslobj\u001b[0m\u001b[0;34m.\u001b[0m\u001b[0mread\u001b[0m\u001b[0;34m(\u001b[0m\u001b[0mlen\u001b[0m\u001b[0;34m,\u001b[0m \u001b[0mbuffer\u001b[0m\u001b[0;34m)\u001b[0m\u001b[0;34m\u001b[0m\u001b[0m\n\u001b[0m\u001b[1;32m    787\u001b[0m         \u001b[0;32mexcept\u001b[0m \u001b[0mSSLError\u001b[0m \u001b[0;32mas\u001b[0m \u001b[0mx\u001b[0m\u001b[0;34m:\u001b[0m\u001b[0;34m\u001b[0m\u001b[0m\n\u001b[1;32m    788\u001b[0m             \u001b[0;32mif\u001b[0m \u001b[0mx\u001b[0m\u001b[0;34m.\u001b[0m\u001b[0margs\u001b[0m\u001b[0;34m[\u001b[0m\u001b[0;36m0\u001b[0m\u001b[0;34m]\u001b[0m \u001b[0;34m==\u001b[0m \u001b[0mSSL_ERROR_EOF\u001b[0m \u001b[0;32mand\u001b[0m \u001b[0mself\u001b[0m\u001b[0;34m.\u001b[0m\u001b[0msuppress_ragged_eofs\u001b[0m\u001b[0;34m:\u001b[0m\u001b[0;34m\u001b[0m\u001b[0m\n",
      "\u001b[0;32m/usr/local/Cellar/python3/3.5.1/Frameworks/Python.framework/Versions/3.5/lib/python3.5/ssl.py\u001b[0m in \u001b[0;36mread\u001b[0;34m(self, len, buffer)\u001b[0m\n\u001b[1;32m    568\u001b[0m         \"\"\"\n\u001b[1;32m    569\u001b[0m         \u001b[0;32mif\u001b[0m \u001b[0mbuffer\u001b[0m \u001b[0;32mis\u001b[0m \u001b[0;32mnot\u001b[0m \u001b[0;32mNone\u001b[0m\u001b[0;34m:\u001b[0m\u001b[0;34m\u001b[0m\u001b[0m\n\u001b[0;32m--> 570\u001b[0;31m             \u001b[0mv\u001b[0m \u001b[0;34m=\u001b[0m \u001b[0mself\u001b[0m\u001b[0;34m.\u001b[0m\u001b[0m_sslobj\u001b[0m\u001b[0;34m.\u001b[0m\u001b[0mread\u001b[0m\u001b[0;34m(\u001b[0m\u001b[0mlen\u001b[0m\u001b[0;34m,\u001b[0m \u001b[0mbuffer\u001b[0m\u001b[0;34m)\u001b[0m\u001b[0;34m\u001b[0m\u001b[0m\n\u001b[0m\u001b[1;32m    571\u001b[0m         \u001b[0;32melse\u001b[0m\u001b[0;34m:\u001b[0m\u001b[0;34m\u001b[0m\u001b[0m\n\u001b[1;32m    572\u001b[0m             \u001b[0mv\u001b[0m \u001b[0;34m=\u001b[0m \u001b[0mself\u001b[0m\u001b[0;34m.\u001b[0m\u001b[0m_sslobj\u001b[0m\u001b[0;34m.\u001b[0m\u001b[0mread\u001b[0m\u001b[0;34m(\u001b[0m\u001b[0mlen\u001b[0m \u001b[0;32mor\u001b[0m \u001b[0;36m1024\u001b[0m\u001b[0;34m)\u001b[0m\u001b[0;34m\u001b[0m\u001b[0m\n",
      "\u001b[0;31mKeyboardInterrupt\u001b[0m: "
     ]
    }
   ],
   "source": [
    "# Let's add each stargazer's additional starred repos and add edges \n",
    "# to find additional interests.\n",
    "\n",
    "MAX_REPOS = 500\n",
    "\n",
    "for i, sg in enumerate(stargazers):\n",
    "    print(sg.login)\n",
    "    try:\n",
    "        for starred in sg.get_starred()[:MAX_REPOS]: # Slice to avoid supernodes\n",
    "            g.add_node(starred.name + '(repo)', type='repo', lang=starred.language, \\\n",
    "                       owner=starred.owner.login)\n",
    "            g.add_edge(sg.login + '(user)', starred.name + '(repo)', type='gazes')\n",
    "    except Exception: #ssl.SSLError:\n",
    "        print(\"Encountered an error fetching starred repos for\", sg.login, \"Skipping.\")\n",
    "\n",
    "    print(\"Processed\", i+1, \"stargazers' starred repos\")\n",
    "    print(\"Num nodes/edges in graph\", g.number_of_nodes(), \"/\", g.number_of_edges())\n",
    "    print(\"Rate limit\", client.rate_limiting)"
   ]
  },
  {
   "cell_type": "markdown",
   "metadata": {},
   "source": [
    "**NOTE: Given that Example 12 is potentially a very time-consuming example to run, be sure to snapshot your work**"
   ]
  },
  {
   "cell_type": "code",
   "execution_count": 18,
   "metadata": {
    "collapsed": false
   },
   "outputs": [
    {
     "ename": "FileNotFoundError",
     "evalue": "[Errno 2] No such file or directory: 'resources/ch07-github/data/github.gpickle.2'",
     "output_type": "error",
     "traceback": [
      "\u001b[0;31m---------------------------------------------------------------------------\u001b[0m",
      "\u001b[0;31mFileNotFoundError\u001b[0m                         Traceback (most recent call last)",
      "\u001b[0;32m<ipython-input-18-7e08a9e1b428>\u001b[0m in \u001b[0;36m<module>\u001b[0;34m()\u001b[0m\n\u001b[1;32m      1\u001b[0m \u001b[0;31m# Save your work by serializing out another snapshot of the graph\u001b[0m\u001b[0;34m\u001b[0m\u001b[0;34m\u001b[0m\u001b[0m\n\u001b[0;32m----> 2\u001b[0;31m \u001b[0mnx\u001b[0m\u001b[0;34m.\u001b[0m\u001b[0mwrite_gpickle\u001b[0m\u001b[0;34m(\u001b[0m\u001b[0mg\u001b[0m\u001b[0;34m,\u001b[0m \u001b[0;34m\"resources/ch07-github/data/github.gpickle.2\"\u001b[0m\u001b[0;34m)\u001b[0m\u001b[0;34m\u001b[0m\u001b[0m\n\u001b[0m\u001b[1;32m      3\u001b[0m \u001b[0;34m\u001b[0m\u001b[0m\n\u001b[1;32m      4\u001b[0m \u001b[0;31m#import networkx as nx\u001b[0m\u001b[0;34m\u001b[0m\u001b[0;34m\u001b[0m\u001b[0m\n\u001b[1;32m      5\u001b[0m \u001b[0;31m#g = nx.read_gpickle(\"resources/ch07-github/data/github.gpickle.2\")\u001b[0m\u001b[0;34m\u001b[0m\u001b[0;34m\u001b[0m\u001b[0m\n",
      "\u001b[0;32m<decorator-gen-294>\u001b[0m in \u001b[0;36mwrite_gpickle\u001b[0;34m(G, path, protocol)\u001b[0m\n",
      "\u001b[0;32m/usr/local/lib/python3.5/site-packages/networkx/utils/decorators.py\u001b[0m in \u001b[0;36m_open_file\u001b[0;34m(func, *args, **kwargs)\u001b[0m\n\u001b[1;32m    196\u001b[0m         \u001b[0;32mif\u001b[0m \u001b[0mis_string_like\u001b[0m\u001b[0;34m(\u001b[0m\u001b[0mpath\u001b[0m\u001b[0;34m)\u001b[0m\u001b[0;34m:\u001b[0m\u001b[0;34m\u001b[0m\u001b[0m\n\u001b[1;32m    197\u001b[0m             \u001b[0mext\u001b[0m \u001b[0;34m=\u001b[0m \u001b[0msplitext\u001b[0m\u001b[0;34m(\u001b[0m\u001b[0mpath\u001b[0m\u001b[0;34m)\u001b[0m\u001b[0;34m[\u001b[0m\u001b[0;36m1\u001b[0m\u001b[0;34m]\u001b[0m\u001b[0;34m\u001b[0m\u001b[0m\n\u001b[0;32m--> 198\u001b[0;31m             \u001b[0mfobj\u001b[0m \u001b[0;34m=\u001b[0m \u001b[0m_dispatch_dict\u001b[0m\u001b[0;34m[\u001b[0m\u001b[0mext\u001b[0m\u001b[0;34m]\u001b[0m\u001b[0;34m(\u001b[0m\u001b[0mpath\u001b[0m\u001b[0;34m,\u001b[0m \u001b[0mmode\u001b[0m\u001b[0;34m=\u001b[0m\u001b[0mmode\u001b[0m\u001b[0;34m)\u001b[0m\u001b[0;34m\u001b[0m\u001b[0m\n\u001b[0m\u001b[1;32m    199\u001b[0m             \u001b[0mclose_fobj\u001b[0m \u001b[0;34m=\u001b[0m \u001b[0;32mTrue\u001b[0m\u001b[0;34m\u001b[0m\u001b[0m\n\u001b[1;32m    200\u001b[0m         \u001b[0;32melif\u001b[0m \u001b[0mhasattr\u001b[0m\u001b[0;34m(\u001b[0m\u001b[0mpath\u001b[0m\u001b[0;34m,\u001b[0m \u001b[0;34m'read'\u001b[0m\u001b[0;34m)\u001b[0m\u001b[0;34m:\u001b[0m\u001b[0;34m\u001b[0m\u001b[0m\n",
      "\u001b[0;31mFileNotFoundError\u001b[0m: [Errno 2] No such file or directory: 'resources/ch07-github/data/github.gpickle.2'"
     ]
    }
   ],
   "source": [
    "# Save your work by serializing out another snapshot of the graph\n",
    "nx.write_gpickle(g, \"resources/ch07-github/data/github.gpickle.2\")\n",
    "\n",
    "#import networkx as nx\n",
    "#g = nx.read_gpickle(\"resources/ch07-github/data/github.gpickle.2\")"
   ]
  },
  {
   "cell_type": "markdown",
   "metadata": {},
   "source": [
    "Consider analysis similar to _Example 12_ here. Create a copy of the graph and be selective in pruning it or extracting subgraphs of interst."
   ]
  },
  {
   "cell_type": "markdown",
   "metadata": {},
   "source": [
    "## Example 13. Exploring the graph after updates with additional starred repositories"
   ]
  },
  {
   "cell_type": "code",
   "execution_count": null,
   "metadata": {
    "collapsed": false
   },
   "outputs": [],
   "source": [
    "# Poke around: how to get users/repos\n",
    "from operator import itemgetter\n",
    "\n",
    "print nx.info(g)\n",
    "print\n",
    "\n",
    "# Get a list of repositories from the graph.\n",
    "\n",
    "repos = [n for n in g.nodes_iter() if g.node[n]['type'] == 'repo']\n",
    "\n",
    "# Most popular repos\n",
    "\n",
    "print \"Popular repositories\"\n",
    "print sorted([(n,d) \n",
    "              for (n,d) in g.in_degree_iter() \n",
    "                  if g.node[n]['type'] == 'repo'], \\\n",
    "             key=itemgetter(1), reverse=True)[:10]\n",
    "print\n",
    "\n",
    "# Projects gazed at by a user\n",
    "\n",
    "print \"Respositories that ptwobrussell has bookmarked\"\n",
    "print [(n,g.node[n]['lang']) \n",
    "       for n in g['ptwobrussell(user)'] \n",
    "           if g['ptwobrussell(user)'][n]['type'] == 'gazes']\n",
    "print\n",
    "\n",
    "# Programming languages for each user\n",
    "\n",
    "print \"Programming languages ptwobrussell is interested in\"\n",
    "print list(set([g.node[n]['lang'] \n",
    "                for n in g['ptwobrussell(user)'] \n",
    "                    if g['ptwobrussell(user)'][n]['type'] == 'gazes']))\n",
    "print\n",
    "\n",
    "# Find supernodes in the graph by approximating with a high number of \n",
    "# outgoing edges\n",
    "\n",
    "print \"Supernode candidates\"\n",
    "print sorted([(n, len(g.out_edges(n))) \n",
    "              for n in g.nodes_iter() \n",
    "                  if g.node[n]['type'] == 'user' and len(g.out_edges(n)) > 500], \\\n",
    "             key=itemgetter(1), reverse=True)"
   ]
  },
  {
   "cell_type": "markdown",
   "metadata": {},
   "source": [
    "## Example 14. Updating the graph to include nodes for programming languages"
   ]
  },
  {
   "cell_type": "code",
   "execution_count": null,
   "metadata": {
    "collapsed": false
   },
   "outputs": [],
   "source": [
    "# Iterate over all of the repos, and add edges for programming languages \n",
    "# for each person in the graph. We'll also add edges back to repos so that \n",
    "# we have a good point to \"pivot\" upon.\n",
    "\n",
    "repos = [n \n",
    "         for n in g.nodes_iter() \n",
    "             if g.node[n]['type'] == 'repo']\n",
    "\n",
    "for repo in repos:\n",
    "    lang = (g.node[repo]['lang'] or \"\") + \"(lang)\"\n",
    "    \n",
    "    stargazers = [u \n",
    "                  for (u, r, d) in g.in_edges_iter(repo, data=True) \n",
    "                     if d['type'] == 'gazes'\n",
    "                 ]\n",
    "    \n",
    "    for sg in stargazers:\n",
    "        g.add_node(lang, type='lang')\n",
    "        g.add_edge(sg, lang, type='programs')\n",
    "        g.add_edge(lang, repo, type='implements')"
   ]
  },
  {
   "cell_type": "markdown",
   "metadata": {},
   "source": [
    "## Example 15. Sample queries for the final graph"
   ]
  },
  {
   "cell_type": "code",
   "execution_count": null,
   "metadata": {
    "collapsed": false
   },
   "outputs": [],
   "source": [
    "# Some stats\n",
    "\n",
    "print nx.info(g)\n",
    "print\n",
    "\n",
    "# What languages exist in the graph?\n",
    "\n",
    "print [n \n",
    "       for n in g.nodes_iter() \n",
    "           if g.node[n]['type'] == 'lang']\n",
    "print\n",
    "\n",
    "# What languages do users program with?\n",
    "print [n \n",
    "       for n in g['ptwobrussell(user)'] \n",
    "           if g['ptwobrussell(user)'][n]['type'] == 'programs']\n",
    "\n",
    "# What is the most popular programming language?\n",
    "print \"Most popular languages\"\n",
    "print sorted([(n, g.in_degree(n))\n",
    " for n in g.nodes_iter() \n",
    "     if g.node[n]['type'] == 'lang'], key=itemgetter(1), reverse=True)[:10]\n",
    "print\n",
    "\n",
    "# How many users program in a particular language?\n",
    "python_programmers = [u \n",
    "                      for (u, l) in g.in_edges_iter('Python(lang)') \n",
    "                          if g.node[u]['type'] == 'user']\n",
    "print \"Number of Python programmers:\", len(python_programmers)\n",
    "print\n",
    "\n",
    "javascript_programmers = [u for \n",
    "                          (u, l) in g.in_edges_iter('JavaScript(lang)') \n",
    "                              if g.node[u]['type'] == 'user']\n",
    "print \"Number of JavaScript programmers:\", len(javascript_programmers)\n",
    "print\n",
    "\n",
    "# What users program in both Python and JavaScript?\n",
    "print \"Number of programmers who use JavaScript and Python\"\n",
    "print len(set(python_programmers).intersection(set(javascript_programmers)))\n",
    "\n",
    "# Programmers who use JavaScript but not Python\n",
    "print \"Number of programmers who use JavaScript but not Python\"\n",
    "print len(set(javascript_programmers).difference(set(python_programmers)))\n",
    "\n",
    "# XXX: Can you determine who is the most polyglot programmer?"
   ]
  },
  {
   "cell_type": "markdown",
   "metadata": {},
   "source": [
    "**NOTE: Optionally, snapshot the final graph**"
   ]
  },
  {
   "cell_type": "code",
   "execution_count": null,
   "metadata": {
    "collapsed": false
   },
   "outputs": [],
   "source": [
    "# Save your work by serializing out another snapshot of the graph\n",
    "nx.write_gpickle(g, \"resources/ch07-github/data/github.gpickle.3\")\n",
    "\n",
    "#import networkx as nx\n",
    "#g = nx.read_gpickle(\"resources/ch07-github/data/github.gpickle.3\")"
   ]
  },
  {
   "cell_type": "markdown",
   "metadata": {},
   "source": [
    "## Example 16. Graph visualization of the social network for the original interest graph"
   ]
  },
  {
   "cell_type": "code",
   "execution_count": null,
   "metadata": {
    "collapsed": false
   },
   "outputs": [],
   "source": [
    "import os\n",
    "import json\n",
    "from IPython.display import IFrame\n",
    "from IPython.core.display import display\n",
    "from networkx.readwrite import json_graph\n",
    "\n",
    "print \"Stats on the full graph\"\n",
    "print nx.info(g)\n",
    "print\n",
    "\n",
    "# Create a subgraph from a collection of nodes. In this case, the\n",
    "# collection is all of the users in the original interest graph\n",
    "\n",
    "mtsw_users = [n for n in g if g.node[n]['type'] == 'user']\n",
    "h = g.subgraph(mtsw_users)\n",
    "\n",
    "print \"Stats on the extracted subgraph\"\n",
    "print nx.info(h)\n",
    "\n",
    "# Visualize the social network of all people from the original interest graph.\n",
    "\n",
    "d = json_graph.node_link_data(h)\n",
    "json.dump(d, open('resources/ch07-github/force.json', 'w'))\n",
    "\n",
    "\n",
    "# IPython Notebook can serve files and display them into\n",
    "# inline frames. Prepend the path with the 'files' prefix.\n",
    "\n",
    "# A D3 template for displaying the graph data.\n",
    "viz_file = 'files/resources/ch07-github/force.html'\n",
    "\n",
    "# Display the D3 visualization.\n",
    "\n",
    "display(IFrame(viz_file, '100%', '600px'))"
   ]
  }
 ],
 "metadata": {
  "kernelspec": {
   "display_name": "Python 3",
   "language": "python",
   "name": "python3"
  },
  "language_info": {
   "codemirror_mode": {
    "name": "ipython",
    "version": 3
   },
   "file_extension": ".py",
   "mimetype": "text/x-python",
   "name": "python",
   "nbconvert_exporter": "python",
   "pygments_lexer": "ipython3",
   "version": "3.5.1"
  }
 },
 "nbformat": 4,
 "nbformat_minor": 0
}
